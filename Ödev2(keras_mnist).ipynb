{
  "nbformat": 4,
  "nbformat_minor": 0,
  "metadata": {
    "colab": {
      "name": "Ödev2(keras-mnist).ipynb",
      "provenance": [],
      "authorship_tag": "ABX9TyMfEL0f4V3ygEEwG6gpoPlo",
      "include_colab_link": true
    },
    "kernelspec": {
      "name": "python3",
      "display_name": "Python 3"
    },
    "language_info": {
      "name": "python"
    }
  },
  "cells": [
    {
      "cell_type": "markdown",
      "metadata": {
        "id": "view-in-github",
        "colab_type": "text"
      },
      "source": [
        "<a href=\"https://colab.research.google.com/github/DerinOgrenme2021/SevketOzkaya/blob/main/%C3%96dev2(keras_mnist).ipynb\" target=\"_parent\"><img src=\"https://colab.research.google.com/assets/colab-badge.svg\" alt=\"Open In Colab\"/></a>"
      ]
    },
    {
      "cell_type": "code",
      "metadata": {
        "id": "VW7aoP8XyWt_"
      },
      "source": [
        "from __future__ import print_function\n",
        "import keras\n",
        "from keras.datasets import mnist\n",
        "from keras.models import Sequential\n",
        "from keras.layers import Dense, Dropout, Flatten\n",
        "from keras.layers import Conv2D, MaxPooling2D\n",
        "from keras import backend as K"
      ],
      "execution_count": 10,
      "outputs": []
    },
    {
      "cell_type": "code",
      "metadata": {
        "id": "tQX9YVSrBACx"
      },
      "source": [
        "batch_size = 128 \n",
        "num_classes = 10 \n",
        "epochs = 12 \n",
        "img_rows, img_cols = 28, 28"
      ],
      "execution_count": 11,
      "outputs": []
    },
    {
      "cell_type": "code",
      "metadata": {
        "id": "-vVaOxIOzWW2",
        "colab": {
          "base_uri": "https://localhost:8080/"
        },
        "outputId": "81ea6f2b-0f88-4b08-d281-0c4577d44170"
      },
      "source": [
        "(x_train, y_train), (x_test, y_test) = mnist.load_data()"
      ],
      "execution_count": 12,
      "outputs": [
        {
          "output_type": "stream",
          "text": [
            "Downloading data from https://storage.googleapis.com/tensorflow/tf-keras-datasets/mnist.npz\n",
            "11493376/11490434 [==============================] - 0s 0us/step\n",
            "11501568/11490434 [==============================] - 0s 0us/step\n"
          ],
          "name": "stdout"
        }
      ]
    },
    {
      "cell_type": "code",
      "metadata": {
        "id": "Qtj5TVF6Bc6f"
      },
      "source": [
        "if K.image_data_format() == 'channels_first':\n",
        "    x_train = x_train.reshape(x_train.shape[0], 1, img_rows, img_cols)\n",
        "    x_test = x_test.reshape(x_test.shape[0], 1, img_rows, img_cols)\n",
        "    input_shape = (1, img_rows, img_cols)\n",
        "else:\n",
        "    x_train = x_train.reshape(x_train.shape[0], img_rows, img_cols, 1)\n",
        "    x_test = x_test.reshape(x_test.shape[0], img_rows, img_cols, 1)\n",
        "    input_shape = (img_rows, img_cols, 1)"
      ],
      "execution_count": 13,
      "outputs": []
    },
    {
      "cell_type": "code",
      "metadata": {
        "colab": {
          "base_uri": "https://localhost:8080/"
        },
        "id": "s6ldYpcXBduS",
        "outputId": "149c8601-e5df-4413-e5dc-5707d20bc21c"
      },
      "source": [
        "x_train = x_train.astype('float32')\n",
        "x_test = x_test.astype('float32')\n",
        "x_train /= 255\n",
        "x_test /= 255\n",
        "print('x_train shape:', x_train.shape)\n",
        "print(x_train.shape[0], 'train samples')\n",
        "print(x_test.shape[0], 'test samples')"
      ],
      "execution_count": 14,
      "outputs": [
        {
          "output_type": "stream",
          "text": [
            "x_train shape: (60000, 28, 28, 1)\n",
            "60000 train samples\n",
            "10000 test samples\n"
          ],
          "name": "stdout"
        }
      ]
    },
    {
      "cell_type": "code",
      "metadata": {
        "id": "O2kqdO920A2n"
      },
      "source": [
        "y_train =pd.get_dummies(y_train)\n",
        "y_test =pd.get_dummies(y_test)"
      ],
      "execution_count": 16,
      "outputs": []
    },
    {
      "cell_type": "code",
      "metadata": {
        "id": "R1BxOf7n0H3_"
      },
      "source": [
        "model = Sequential()\n",
        "model.add(Conv2D(32, kernel_size=(3, 3),\n",
        "                 activation='relu',\n",
        "                 input_shape=input_shape))\n",
        "model.add(Conv2D(64, (3, 3), activation='relu'))\n",
        "model.add(MaxPooling2D(pool_size=(2, 2)))\n",
        "model.add(Dropout(0.25))\n",
        "model.add(Flatten())\n",
        "model.add(Dense(128, activation='relu'))\n",
        "model.add(Dropout(0.5))\n",
        "model.add(Dense(num_classes, activation='softmax'))\n",
        "model.compile(loss=keras.losses.categorical_crossentropy,\n",
        "              optimizer=keras.optimizers.Adadelta(),\n",
        "              metrics=['accuracy'])"
      ],
      "execution_count": 17,
      "outputs": []
    },
    {
      "cell_type": "code",
      "metadata": {
        "colab": {
          "base_uri": "https://localhost:8080/"
        },
        "id": "Xk5Jcojv0Nw_",
        "outputId": "3fa3323e-553e-46cc-acf6-4e9ee20b91e4"
      },
      "source": [
        "model.fit(x_train, y_train,\n",
        "          batch_size=batch_size,\n",
        "          epochs=epochs,\n",
        "          verbose=1,\n",
        "          validation_data=(x_test, y_test))"
      ],
      "execution_count": 18,
      "outputs": [
        {
          "output_type": "stream",
          "text": [
            "Epoch 1/12\n",
            "469/469 [==============================] - 166s 323ms/step - loss: 2.3002 - accuracy: 0.1345 - val_loss: 2.2579 - val_accuracy: 0.3605\n",
            "Epoch 2/12\n",
            "469/469 [==============================] - 155s 331ms/step - loss: 2.2515 - accuracy: 0.2566 - val_loss: 2.1971 - val_accuracy: 0.4734\n",
            "Epoch 3/12\n",
            "469/469 [==============================] - 149s 318ms/step - loss: 2.1918 - accuracy: 0.3551 - val_loss: 2.1133 - val_accuracy: 0.5644\n",
            "Epoch 4/12\n",
            "469/469 [==============================] - 151s 321ms/step - loss: 2.1083 - accuracy: 0.4296 - val_loss: 1.9953 - val_accuracy: 0.6307\n",
            "Epoch 5/12\n",
            "469/469 [==============================] - 149s 317ms/step - loss: 1.9951 - accuracy: 0.4919 - val_loss: 1.8357 - val_accuracy: 0.6712\n",
            "Epoch 6/12\n",
            "469/469 [==============================] - 149s 318ms/step - loss: 1.8454 - accuracy: 0.5400 - val_loss: 1.6406 - val_accuracy: 0.7129\n",
            "Epoch 7/12\n",
            "469/469 [==============================] - 155s 331ms/step - loss: 1.6724 - accuracy: 0.5801 - val_loss: 1.4283 - val_accuracy: 0.7416\n",
            "Epoch 8/12\n",
            "469/469 [==============================] - 150s 319ms/step - loss: 1.4937 - accuracy: 0.6122 - val_loss: 1.2280 - val_accuracy: 0.7765\n",
            "Epoch 9/12\n",
            "469/469 [==============================] - 151s 322ms/step - loss: 1.3314 - accuracy: 0.6388 - val_loss: 1.0592 - val_accuracy: 0.7968\n",
            "Epoch 10/12\n",
            "469/469 [==============================] - 153s 325ms/step - loss: 1.1926 - accuracy: 0.6691 - val_loss: 0.9252 - val_accuracy: 0.8144\n",
            "Epoch 11/12\n",
            "469/469 [==============================] - 153s 325ms/step - loss: 1.0922 - accuracy: 0.6848 - val_loss: 0.8223 - val_accuracy: 0.8280\n",
            "Epoch 12/12\n",
            "469/469 [==============================] - 152s 324ms/step - loss: 1.0031 - accuracy: 0.7027 - val_loss: 0.7438 - val_accuracy: 0.8358\n"
          ],
          "name": "stdout"
        },
        {
          "output_type": "execute_result",
          "data": {
            "text/plain": [
              "<keras.callbacks.History at 0x7ff545db3f10>"
            ]
          },
          "metadata": {
            "tags": []
          },
          "execution_count": 18
        }
      ]
    },
    {
      "cell_type": "code",
      "metadata": {
        "colab": {
          "base_uri": "https://localhost:8080/"
        },
        "id": "_s1rd8R-01Hi",
        "outputId": "651d5ddf-04f6-4f6a-e2d9-e670c2a5ae14"
      },
      "source": [
        "score = model.evaluate(x_test, y_test, verbose=0)\n",
        "print('Test loss:', score[0])\n",
        "print('Test accuracy:', score[1])"
      ],
      "execution_count": 19,
      "outputs": [
        {
          "output_type": "stream",
          "text": [
            "Test loss: 0.7438077926635742\n",
            "Test accuracy: 0.8357999920845032\n"
          ],
          "name": "stdout"
        }
      ]
    }
  ]
}
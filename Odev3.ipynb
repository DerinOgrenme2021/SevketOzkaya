{
  "nbformat": 4,
  "nbformat_minor": 0,
  "metadata": {
    "colab": {
      "name": "Odev3.ipynb",
      "provenance": [],
      "collapsed_sections": [],
      "authorship_tag": "ABX9TyPa37RL1CdCc4ONWfFlVQLE",
      "include_colab_link": true
    },
    "kernelspec": {
      "name": "python3",
      "display_name": "Python 3"
    },
    "language_info": {
      "name": "python"
    }
  },
  "cells": [
    {
      "cell_type": "markdown",
      "metadata": {
        "id": "view-in-github",
        "colab_type": "text"
      },
      "source": [
        "<a href=\"https://colab.research.google.com/github/DerinOgrenme2021/SevketOzkaya/blob/main/Odev3.ipynb\" target=\"_parent\"><img src=\"https://colab.research.google.com/assets/colab-badge.svg\" alt=\"Open In Colab\"/></a>"
      ]
    },
    {
      "cell_type": "markdown",
      "metadata": {
        "id": "oqYJA8yrQTxx"
      },
      "source": [
        "Makine Öğrenmesi"
      ]
    },
    {
      "cell_type": "code",
      "metadata": {
        "id": "4TYdmH7GLU3o"
      },
      "source": [
        "import numpy as np\n",
        "import pandas as pd\n",
        "import matplotlib.pyplot as pl\n",
        "import seaborn as sns\n",
        "from sklearn import model_selection\n",
        "from sklearn.metrics import classification_report\n",
        "from sklearn.metrics import confusion_matrix\n",
        "from sklearn.metrics import accuracy_score\n",
        "from sklearn.linear_model import LogisticRegression\n",
        "from sklearn.tree import DecisionTreeClassifier\n",
        "from sklearn.neighbors import KNeighborsClassifier\n",
        "from sklearn.discriminant_analysis import LinearDiscriminantAnalysis\n",
        "from sklearn.naive_bayes import GaussianNB\n",
        "from sklearn.svm import SVC\n",
        "from matplotlib.colors import ListedColormap"
      ],
      "execution_count": 9,
      "outputs": []
    },
    {
      "cell_type": "code",
      "metadata": {
        "colab": {
          "base_uri": "https://localhost:8080/"
        },
        "id": "kl6cqRC7MAGb",
        "outputId": "de8aa46c-154f-4ed2-b192-9031bfc4c3e2"
      },
      "source": [
        "iris = sns.load_dataset('iris')\n",
        "iris.shape"
      ],
      "execution_count": 10,
      "outputs": [
        {
          "output_type": "execute_result",
          "data": {
            "text/plain": [
              "(150, 5)"
            ]
          },
          "metadata": {
            "tags": []
          },
          "execution_count": 10
        }
      ]
    },
    {
      "cell_type": "code",
      "metadata": {
        "id": "7gRt22fqMcdh"
      },
      "source": [
        "test_size = 0.30\n",
        "seed = 7\n",
        "score = 'accuracy'"
      ],
      "execution_count": 11,
      "outputs": []
    },
    {
      "cell_type": "code",
      "metadata": {
        "id": "hl5vsSgeNdMn"
      },
      "source": [
        "def models(X_train, Y_train,score):\n",
        "    clfs = []\n",
        "    result = []\n",
        "    names = []\n",
        "    clfs.append(('LogReg', LogisticRegression()))\n",
        "    clfs.append(('LinDiscAnly', LinearDiscriminantAnalysis()))\n",
        "    clfs.append(('KNeighClss', KNeighborsClassifier()))\n",
        "    clfs.append(('DecTreeClss', DecisionTreeClassifier()))\n",
        "    clfs.append(('GaussNaivBayes', GaussianNB()))\n",
        "    clfs.append(('SupVecMach', SVC()))\n",
        "    for algo_name, clf in clfs:\n",
        "        k_fold = model_selection.KFold(n_splits=10, random_state=seed)\n",
        "        cv_score = model_selection.cross_val_score(clf, X_train, Y_train, cv=k_fold, scoring=score)\n",
        "        result.append((algo_name,cv_score.mean(), cv_score.std()))\n",
        "        names.append(algo_name)\n",
        "    return (result)"
      ],
      "execution_count": 12,
      "outputs": []
    },
    {
      "cell_type": "code",
      "metadata": {
        "id": "fVSmr0oWOaBz"
      },
      "source": [
        "X_all = iris.iloc[:,:4]\n",
        "Y_all = iris.iloc[:,4] "
      ],
      "execution_count": 13,
      "outputs": []
    },
    {
      "cell_type": "code",
      "metadata": {
        "colab": {
          "base_uri": "https://localhost:8080/"
        },
        "id": "TVH2WSc_Ogrx",
        "outputId": "ab2f13f2-c686-4816-c183-93155c470d6e"
      },
      "source": [
        "X_train_all, X_test_all, Y_train_all, Y_test_all = model_selection.train_test_split(X_all, Y_all, test_size=test_size, random_state=seed)\n",
        "models(X_train_all, Y_train_all, score)"
      ],
      "execution_count": 15,
      "outputs": [
        {
          "output_type": "stream",
          "text": [
            "/usr/local/lib/python3.7/dist-packages/sklearn/model_selection/_split.py:296: FutureWarning: Setting a random_state has no effect since shuffle is False. This will raise an error in 0.24. You should leave random_state to its default (None), or set shuffle=True.\n",
            "  FutureWarning\n",
            "/usr/local/lib/python3.7/dist-packages/sklearn/linear_model/_logistic.py:940: ConvergenceWarning: lbfgs failed to converge (status=1):\n",
            "STOP: TOTAL NO. of ITERATIONS REACHED LIMIT.\n",
            "\n",
            "Increase the number of iterations (max_iter) or scale the data as shown in:\n",
            "    https://scikit-learn.org/stable/modules/preprocessing.html\n",
            "Please also refer to the documentation for alternative solver options:\n",
            "    https://scikit-learn.org/stable/modules/linear_model.html#logistic-regression\n",
            "  extra_warning_msg=_LOGISTIC_SOLVER_CONVERGENCE_MSG)\n",
            "/usr/local/lib/python3.7/dist-packages/sklearn/linear_model/_logistic.py:940: ConvergenceWarning: lbfgs failed to converge (status=1):\n",
            "STOP: TOTAL NO. of ITERATIONS REACHED LIMIT.\n",
            "\n",
            "Increase the number of iterations (max_iter) or scale the data as shown in:\n",
            "    https://scikit-learn.org/stable/modules/preprocessing.html\n",
            "Please also refer to the documentation for alternative solver options:\n",
            "    https://scikit-learn.org/stable/modules/linear_model.html#logistic-regression\n",
            "  extra_warning_msg=_LOGISTIC_SOLVER_CONVERGENCE_MSG)\n",
            "/usr/local/lib/python3.7/dist-packages/sklearn/linear_model/_logistic.py:940: ConvergenceWarning: lbfgs failed to converge (status=1):\n",
            "STOP: TOTAL NO. of ITERATIONS REACHED LIMIT.\n",
            "\n",
            "Increase the number of iterations (max_iter) or scale the data as shown in:\n",
            "    https://scikit-learn.org/stable/modules/preprocessing.html\n",
            "Please also refer to the documentation for alternative solver options:\n",
            "    https://scikit-learn.org/stable/modules/linear_model.html#logistic-regression\n",
            "  extra_warning_msg=_LOGISTIC_SOLVER_CONVERGENCE_MSG)\n",
            "/usr/local/lib/python3.7/dist-packages/sklearn/model_selection/_split.py:296: FutureWarning: Setting a random_state has no effect since shuffle is False. This will raise an error in 0.24. You should leave random_state to its default (None), or set shuffle=True.\n",
            "  FutureWarning\n",
            "/usr/local/lib/python3.7/dist-packages/sklearn/model_selection/_split.py:296: FutureWarning: Setting a random_state has no effect since shuffle is False. This will raise an error in 0.24. You should leave random_state to its default (None), or set shuffle=True.\n",
            "  FutureWarning\n",
            "/usr/local/lib/python3.7/dist-packages/sklearn/model_selection/_split.py:296: FutureWarning: Setting a random_state has no effect since shuffle is False. This will raise an error in 0.24. You should leave random_state to its default (None), or set shuffle=True.\n",
            "  FutureWarning\n",
            "/usr/local/lib/python3.7/dist-packages/sklearn/model_selection/_split.py:296: FutureWarning: Setting a random_state has no effect since shuffle is False. This will raise an error in 0.24. You should leave random_state to its default (None), or set shuffle=True.\n",
            "  FutureWarning\n",
            "/usr/local/lib/python3.7/dist-packages/sklearn/model_selection/_split.py:296: FutureWarning: Setting a random_state has no effect since shuffle is False. This will raise an error in 0.24. You should leave random_state to its default (None), or set shuffle=True.\n",
            "  FutureWarning\n"
          ],
          "name": "stderr"
        },
        {
          "output_type": "execute_result",
          "data": {
            "text/plain": [
              "[('LogReg', 0.9800000000000001, 0.039999999999999994),\n",
              " ('LinDiscAnly', 0.9800000000000001, 0.039999999999999994),\n",
              " ('KNeighClss', 0.9800000000000001, 0.039999999999999994),\n",
              " ('DecTreeClss', 0.9700000000000001, 0.04582575694955839),\n",
              " ('GaussNaivBayes', 0.9809090909090908, 0.03823589244511471),\n",
              " ('SupVecMach', 0.9800000000000001, 0.039999999999999994)]"
            ]
          },
          "metadata": {
            "tags": []
          },
          "execution_count": 15
        }
      ]
    },
    {
      "cell_type": "code",
      "metadata": {
        "colab": {
          "base_uri": "https://localhost:8080/"
        },
        "id": "XLEHKPazOy6l",
        "outputId": "b7ce3917-10d4-417c-e646-93a44cfe25d5"
      },
      "source": [
        "svm = SVC()\n",
        "svm.fit(X_train_all, Y_train_all)\n",
        "pred = svm.predict(X_test_all)\n",
        "print(accuracy_score(Y_test_all, pred))"
      ],
      "execution_count": 16,
      "outputs": [
        {
          "output_type": "stream",
          "text": [
            "0.8888888888888888\n",
            "[[12  0  0]\n",
            " [ 0 15  1]\n",
            " [ 0  4 13]]\n",
            "              precision    recall  f1-score   support\n",
            "\n",
            "      setosa       1.00      1.00      1.00        12\n",
            "  versicolor       0.79      0.94      0.86        16\n",
            "   virginica       0.93      0.76      0.84        17\n",
            "\n",
            "    accuracy                           0.89        45\n",
            "   macro avg       0.91      0.90      0.90        45\n",
            "weighted avg       0.90      0.89      0.89        45\n",
            "\n"
          ],
          "name": "stdout"
        }
      ]
    },
    {
      "cell_type": "markdown",
      "metadata": {
        "id": "VWlipMZoQNUP"
      },
      "source": [
        "Derin Öğrenme"
      ]
    },
    {
      "cell_type": "code",
      "metadata": {
        "id": "K8-vXeCTQb2t"
      },
      "source": [
        "from keras.models import Sequential\n",
        "from keras.layers import Dense\n",
        "from keras.wrappers.scikit_learn import KerasClassifier\n",
        "from keras.utils import np_utils\n",
        "from sklearn.model_selection import cross_val_score\n",
        "from sklearn.model_selection import KFold\n",
        "from sklearn.preprocessing import LabelEncoder\n",
        "from sklearn.pipeline import Pipeline"
      ],
      "execution_count": 22,
      "outputs": []
    },
    {
      "cell_type": "code",
      "metadata": {
        "id": "ouAka1cYQfE2"
      },
      "source": [
        "i = sns.load_dataset('iris')\n",
        "iris = i.values"
      ],
      "execution_count": 23,
      "outputs": []
    },
    {
      "cell_type": "code",
      "metadata": {
        "id": "3QOShP14Q4Un"
      },
      "source": [
        "X = iris[1:, 0:4].astype(float)\n",
        "Y = iris[1:, 4]"
      ],
      "execution_count": 31,
      "outputs": []
    },
    {
      "cell_type": "code",
      "metadata": {
        "id": "KNPkI7CvRH3U"
      },
      "source": [
        "seed = 7\n",
        "np.random.seed(seed)\n",
        "encoder = LabelEncoder()\n",
        "encoder.fit(Y)\n",
        "encoded_Y = encoder.transform(Y)"
      ],
      "execution_count": 32,
      "outputs": []
    },
    {
      "cell_type": "code",
      "metadata": {
        "id": "Y4YViofFRSGn"
      },
      "source": [
        "y_dummy = np_utils.to_categorical(encoded_Y)"
      ],
      "execution_count": 33,
      "outputs": []
    },
    {
      "cell_type": "code",
      "metadata": {
        "id": "OzuzrodfRTvu"
      },
      "source": [
        "def deepml_model():\n",
        "    deepml = Sequential()\n",
        "    deepml.add(Dense(8, input_dim=4, activation='relu'))\n",
        "    deepml.add(Dense(3, activation='softmax'))\n",
        "    deepml.compile(loss='categorical_crossentropy', optimizer='adam', metrics=['accuracy'])\n",
        "    return deepml"
      ],
      "execution_count": 34,
      "outputs": []
    },
    {
      "cell_type": "code",
      "metadata": {
        "id": "fChUY4X2RfBl"
      },
      "source": [
        "estimate = KerasClassifier(build_fn=deepml_model, epochs=200, batch_size=5, verbose=0)"
      ],
      "execution_count": 35,
      "outputs": []
    },
    {
      "cell_type": "code",
      "metadata": {
        "id": "j3q_AItSRhKy"
      },
      "source": [
        "k_fold = KFold(n_splits=10, shuffle=True, random_state=seed)"
      ],
      "execution_count": 36,
      "outputs": []
    },
    {
      "cell_type": "code",
      "metadata": {
        "colab": {
          "base_uri": "https://localhost:8080/"
        },
        "id": "Sq3xrX0TRjJy",
        "outputId": "29ca506b-f29e-4005-dd70-6740fdcb48fd"
      },
      "source": [
        "results = cross_val_score(estimate, X, y_dummy, cv=k_fold)\n",
        "print(\"Model: %.2f%% (%.2f%%)\" % (results.mean()*100, results.std()*100))"
      ],
      "execution_count": 37,
      "outputs": [
        {
          "output_type": "stream",
          "text": [
            "WARNING:tensorflow:5 out of the last 13 calls to <function Model.make_test_function.<locals>.test_function at 0x7fdf2c6fb9e0> triggered tf.function retracing. Tracing is expensive and the excessive number of tracings could be due to (1) creating @tf.function repeatedly in a loop, (2) passing tensors with different shapes, (3) passing Python objects instead of tensors. For (1), please define your @tf.function outside of the loop. For (2), @tf.function has experimental_relax_shapes=True option that relaxes argument shapes that can avoid unnecessary retracing. For (3), please refer to https://www.tensorflow.org/guide/function#controlling_retracing and https://www.tensorflow.org/api_docs/python/tf/function for  more details.\n",
            "WARNING:tensorflow:5 out of the last 13 calls to <function Model.make_test_function.<locals>.test_function at 0x7fdf2b5553b0> triggered tf.function retracing. Tracing is expensive and the excessive number of tracings could be due to (1) creating @tf.function repeatedly in a loop, (2) passing tensors with different shapes, (3) passing Python objects instead of tensors. For (1), please define your @tf.function outside of the loop. For (2), @tf.function has experimental_relax_shapes=True option that relaxes argument shapes that can avoid unnecessary retracing. For (3), please refer to https://www.tensorflow.org/guide/function#controlling_retracing and https://www.tensorflow.org/api_docs/python/tf/function for  more details.\n",
            "Model: 95.95% (4.45%)\n"
          ],
          "name": "stdout"
        }
      ]
    }
  ]
}
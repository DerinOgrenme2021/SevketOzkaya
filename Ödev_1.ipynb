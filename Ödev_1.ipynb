{
  "nbformat": 4,
  "nbformat_minor": 0,
  "metadata": {
    "colab": {
      "name": "Ödev_1.ipynb",
      "provenance": [],
      "collapsed_sections": [],
      "authorship_tag": "ABX9TyO/o0yKlFLzhICmsqlnT4/S",
      "include_colab_link": true
    },
    "kernelspec": {
      "name": "python3",
      "display_name": "Python 3"
    },
    "language_info": {
      "name": "python"
    }
  },
  "cells": [
    {
      "cell_type": "markdown",
      "metadata": {
        "id": "view-in-github",
        "colab_type": "text"
      },
      "source": [
        "<a href=\"https://colab.research.google.com/github/DerinOgrenme2021/SevketOzkaya/blob/main/%C3%96dev_1.ipynb\" target=\"_parent\"><img src=\"https://colab.research.google.com/assets/colab-badge.svg\" alt=\"Open In Colab\"/></a>"
      ]
    },
    {
      "cell_type": "code",
      "metadata": {
        "id": "L68fz-3iwe9G"
      },
      "source": [
        "!wget http://vis-www.cs.umass.edu/lfw/lfw.tgz\n",
        "!tar xvzf lfw.tgz"
      ],
      "execution_count": null,
      "outputs": []
    },
    {
      "cell_type": "code",
      "metadata": {
        "id": "6Q3TWaC-xY_C"
      },
      "source": [
        "import skimage"
      ],
      "execution_count": null,
      "outputs": []
    },
    {
      "cell_type": "code",
      "metadata": {
        "id": "BM3rYKYnxaeV"
      },
      "source": [
        "import numpy as np"
      ],
      "execution_count": null,
      "outputs": []
    },
    {
      "cell_type": "code",
      "metadata": {
        "id": "yaxfm0UxyAYN"
      },
      "source": [
        "tony=np.zeros((250,250,3),np.float64)"
      ],
      "execution_count": null,
      "outputs": []
    },
    {
      "cell_type": "code",
      "metadata": {
        "id": "6w60EwVNxt0a"
      },
      "source": [
        "yol = \"lfw/Tony_Blair/Tony_Blair_0000\"\n",
        "for i in range(1,145):\n",
        "  yol2 = yol[:(-1)*(len(str(i)))]+str(i)+\".jpg\"\n",
        "  tony = tony + skimage.io.imread(yol2, as_gray=False, plugin=None)"
      ],
      "execution_count": null,
      "outputs": []
    },
    {
      "cell_type": "code",
      "metadata": {
        "id": "byWL8Jkezdcf"
      },
      "source": [
        "avgtony=tony/144"
      ],
      "execution_count": null,
      "outputs": []
    },
    {
      "cell_type": "code",
      "metadata": {
        "colab": {
          "base_uri": "https://localhost:8080/"
        },
        "id": "VKF6Fmufzfuy",
        "outputId": "c09765a4-6bd4-4036-8892-23fcef5c053d"
      },
      "source": [
        "skimage.io.imsave(\"tonyavg1.jpg\", avgtony)"
      ],
      "execution_count": null,
      "outputs": [
        {
          "output_type": "stream",
          "text": [
            "WARNING:root:Lossy conversion from float64 to uint8. Range [26.5625, 224.67361111111111]. Convert image to uint8 prior to saving to suppress this warning.\n"
          ],
          "name": "stderr"
        }
      ]
    },
    {
      "cell_type": "markdown",
      "metadata": {
        "id": "2RDagk1hzi_p"
      },
      "source": [
        "uint8 uyarısı veriyor bu sebeple;"
      ]
    },
    {
      "cell_type": "code",
      "metadata": {
        "id": "TYTkUBD3zlCY"
      },
      "source": [
        "skimage.io.imsave(\"tonyavg2.jpg\", np.uint8(avgtony))"
      ],
      "execution_count": null,
      "outputs": []
    }
  ]
}
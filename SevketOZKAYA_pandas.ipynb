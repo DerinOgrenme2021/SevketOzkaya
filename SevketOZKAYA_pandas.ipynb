{
  "nbformat": 4,
  "nbformat_minor": 0,
  "metadata": {
    "colab": {
      "name": "SevketOZKAYA_pandas.ipynb",
      "provenance": [],
      "authorship_tag": "ABX9TyN9THtM+qGa5mcePERGfbL+",
      "include_colab_link": true
    },
    "kernelspec": {
      "name": "python3",
      "display_name": "Python 3"
    },
    "language_info": {
      "name": "python"
    }
  },
  "cells": [
    {
      "cell_type": "markdown",
      "metadata": {
        "id": "view-in-github",
        "colab_type": "text"
      },
      "source": [
        "<a href=\"https://colab.research.google.com/github/DerinOgrenme2021/SevketOzkaya/blob/main/SevketOZKAYA_pandas.ipynb\" target=\"_parent\"><img src=\"https://colab.research.google.com/assets/colab-badge.svg\" alt=\"Open In Colab\"/></a>"
      ]
    },
    {
      "cell_type": "code",
      "metadata": {
        "id": "f_2WGtRBD35D",
        "outputId": "4a722283-1114-4fcd-fbb3-a88e307de5cc",
        "colab": {
          "base_uri": "https://localhost:8080/",
          "height": 35
        }
      },
      "source": [
        "import pandas as pd\n",
        "pd.__version__"
      ],
      "execution_count": 1,
      "outputs": [
        {
          "output_type": "execute_result",
          "data": {
            "application/vnd.google.colaboratory.intrinsic+json": {
              "type": "string"
            },
            "text/plain": [
              "'1.1.5'"
            ]
          },
          "metadata": {
            "tags": []
          },
          "execution_count": 1
        }
      ]
    },
    {
      "cell_type": "code",
      "metadata": {
        "id": "y5i2tDdMGJQW"
      },
      "source": [
        "isimler=pd.Series([\"Semih\",\"Sevket\",\"Abdullah\"])"
      ],
      "execution_count": 2,
      "outputs": []
    },
    {
      "cell_type": "code",
      "metadata": {
        "id": "RWNGfMauGYct",
        "outputId": "3d75db33-34ee-4160-c34a-0c58dbd085e8",
        "colab": {
          "base_uri": "https://localhost:8080/"
        }
      },
      "source": [
        "print (isimler)"
      ],
      "execution_count": 4,
      "outputs": [
        {
          "output_type": "stream",
          "text": [
            "0       Semih\n",
            "1      Sevket\n",
            "2    Abdullah\n",
            "dtype: object\n"
          ],
          "name": "stdout"
        }
      ]
    },
    {
      "cell_type": "code",
      "metadata": {
        "id": "DOvlmbqLGjnN"
      },
      "source": [
        "yaslar=pd.Series([23,45,32])"
      ],
      "execution_count": 5,
      "outputs": []
    },
    {
      "cell_type": "code",
      "metadata": {
        "id": "KJhzb5jWGuPN",
        "outputId": "4302da5f-5658-460e-a107-9ac1a5a01897",
        "colab": {
          "base_uri": "https://localhost:8080/"
        }
      },
      "source": [
        "print(yaslar)"
      ],
      "execution_count": 6,
      "outputs": [
        {
          "output_type": "stream",
          "text": [
            "0    23\n",
            "1    45\n",
            "2    32\n",
            "dtype: int64\n"
          ],
          "name": "stdout"
        }
      ]
    },
    {
      "cell_type": "code",
      "metadata": {
        "id": "gzvgs_n4G4vg"
      },
      "source": [
        "df=pd.DataFrame({\"Isim\":isimler,\"Yas\":yaslar})"
      ],
      "execution_count": 7,
      "outputs": []
    },
    {
      "cell_type": "code",
      "metadata": {
        "id": "9lZNhLR-HYMF",
        "outputId": "52934a67-baee-4e66-daeb-4339f0b3ac8e",
        "colab": {
          "base_uri": "https://localhost:8080/"
        }
      },
      "source": [
        "print(df)"
      ],
      "execution_count": 8,
      "outputs": [
        {
          "output_type": "stream",
          "text": [
            "       Isim  Yas\n",
            "0     Semih   23\n",
            "1    Sevket   45\n",
            "2  Abdullah   32\n"
          ],
          "name": "stdout"
        }
      ]
    }
  ]
}
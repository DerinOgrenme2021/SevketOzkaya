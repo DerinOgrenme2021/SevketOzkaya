{
  "nbformat": 4,
  "nbformat_minor": 0,
  "metadata": {
    "colab": {
      "name": "Ödev2(keras-cfhouse).ipynb",
      "provenance": [],
      "toc_visible": true,
      "authorship_tag": "ABX9TyMDmqpEKSRs6h2B4aeaDKQQ",
      "include_colab_link": true
    },
    "kernelspec": {
      "name": "python3",
      "display_name": "Python 3"
    },
    "language_info": {
      "name": "python"
    }
  },
  "cells": [
    {
      "cell_type": "markdown",
      "metadata": {
        "id": "view-in-github",
        "colab_type": "text"
      },
      "source": [
        "<a href=\"https://colab.research.google.com/github/DerinOgrenme2021/SevketOzkaya/blob/main/%C3%96dev2(keras_cfhouse).ipynb\" target=\"_parent\"><img src=\"https://colab.research.google.com/assets/colab-badge.svg\" alt=\"Open In Colab\"/></a>"
      ]
    },
    {
      "cell_type": "code",
      "metadata": {
        "id": "VW7aoP8XyWt_"
      },
      "source": [
        "import os\n",
        "import pandas as pd\n",
        "import numpy as np\n",
        "import seaborn as sb\n",
        "import matplotlib.pyplot as plt\n",
        "import seaborn as sns\n",
        "import logging\n",
        "plt.style.use('fivethirtyeight')\n",
        "import warnings\n",
        "warnings.filterwarnings('ignore')\n",
        "from sklearn.preprocessing import OneHotEncoder, LabelEncoder, StandardScaler, MinMaxScaler\n",
        "from sklearn.model_selection import train_test_split\n",
        "from sklearn.metrics import confusion_matrix, classification_report, accuracy_score\n",
        "from tensorflow.python.keras.layers import Dense\n",
        "from tensorflow.python.keras import Sequential\n",
        "from IPython.display import HTML, display\n",
        "from keras.layers import Dropout"
      ],
      "execution_count": 79,
      "outputs": []
    },
    {
      "cell_type": "code",
      "metadata": {
        "id": "-vVaOxIOzWW2"
      },
      "source": [
        "train_dataset_raw = pd.read_csv('/content/sample_data/california_housing_train.csv')\n",
        "test_dataset = pd.read_csv('/content/sample_data/california_housing_test.csv')"
      ],
      "execution_count": 80,
      "outputs": []
    },
    {
      "cell_type": "code",
      "metadata": {
        "id": "9s-MJrnqz0Kl"
      },
      "source": [
        "train_dataset = train_dataset_raw.copy(deep = True)\n",
        "data_cleaner = [train_dataset, test_dataset]"
      ],
      "execution_count": 81,
      "outputs": []
    },
    {
      "cell_type": "code",
      "metadata": {
        "id": "kDKrLllHhPoP",
        "colab": {
          "base_uri": "https://localhost:8080/",
          "height": 317
        },
        "outputId": "c7f0453f-e744-4d7d-ab19-9a73fdcaaf6a"
      },
      "source": [
        "train_dataset_raw.describe(include = 'all')"
      ],
      "execution_count": 82,
      "outputs": [
        {
          "output_type": "execute_result",
          "data": {
            "text/html": [
              "<div>\n",
              "<style scoped>\n",
              "    .dataframe tbody tr th:only-of-type {\n",
              "        vertical-align: middle;\n",
              "    }\n",
              "\n",
              "    .dataframe tbody tr th {\n",
              "        vertical-align: top;\n",
              "    }\n",
              "\n",
              "    .dataframe thead th {\n",
              "        text-align: right;\n",
              "    }\n",
              "</style>\n",
              "<table border=\"1\" class=\"dataframe\">\n",
              "  <thead>\n",
              "    <tr style=\"text-align: right;\">\n",
              "      <th></th>\n",
              "      <th>longitude</th>\n",
              "      <th>latitude</th>\n",
              "      <th>housing_median_age</th>\n",
              "      <th>total_rooms</th>\n",
              "      <th>total_bedrooms</th>\n",
              "      <th>population</th>\n",
              "      <th>households</th>\n",
              "      <th>median_income</th>\n",
              "      <th>median_house_value</th>\n",
              "    </tr>\n",
              "  </thead>\n",
              "  <tbody>\n",
              "    <tr>\n",
              "      <th>count</th>\n",
              "      <td>17000.000000</td>\n",
              "      <td>17000.000000</td>\n",
              "      <td>17000.000000</td>\n",
              "      <td>17000.000000</td>\n",
              "      <td>17000.000000</td>\n",
              "      <td>17000.000000</td>\n",
              "      <td>17000.000000</td>\n",
              "      <td>17000.000000</td>\n",
              "      <td>17000.000000</td>\n",
              "    </tr>\n",
              "    <tr>\n",
              "      <th>mean</th>\n",
              "      <td>-119.562108</td>\n",
              "      <td>35.625225</td>\n",
              "      <td>28.589353</td>\n",
              "      <td>2643.664412</td>\n",
              "      <td>539.410824</td>\n",
              "      <td>1429.573941</td>\n",
              "      <td>501.221941</td>\n",
              "      <td>3.883578</td>\n",
              "      <td>207300.912353</td>\n",
              "    </tr>\n",
              "    <tr>\n",
              "      <th>std</th>\n",
              "      <td>2.005166</td>\n",
              "      <td>2.137340</td>\n",
              "      <td>12.586937</td>\n",
              "      <td>2179.947071</td>\n",
              "      <td>421.499452</td>\n",
              "      <td>1147.852959</td>\n",
              "      <td>384.520841</td>\n",
              "      <td>1.908157</td>\n",
              "      <td>115983.764387</td>\n",
              "    </tr>\n",
              "    <tr>\n",
              "      <th>min</th>\n",
              "      <td>-124.350000</td>\n",
              "      <td>32.540000</td>\n",
              "      <td>1.000000</td>\n",
              "      <td>2.000000</td>\n",
              "      <td>1.000000</td>\n",
              "      <td>3.000000</td>\n",
              "      <td>1.000000</td>\n",
              "      <td>0.499900</td>\n",
              "      <td>14999.000000</td>\n",
              "    </tr>\n",
              "    <tr>\n",
              "      <th>25%</th>\n",
              "      <td>-121.790000</td>\n",
              "      <td>33.930000</td>\n",
              "      <td>18.000000</td>\n",
              "      <td>1462.000000</td>\n",
              "      <td>297.000000</td>\n",
              "      <td>790.000000</td>\n",
              "      <td>282.000000</td>\n",
              "      <td>2.566375</td>\n",
              "      <td>119400.000000</td>\n",
              "    </tr>\n",
              "    <tr>\n",
              "      <th>50%</th>\n",
              "      <td>-118.490000</td>\n",
              "      <td>34.250000</td>\n",
              "      <td>29.000000</td>\n",
              "      <td>2127.000000</td>\n",
              "      <td>434.000000</td>\n",
              "      <td>1167.000000</td>\n",
              "      <td>409.000000</td>\n",
              "      <td>3.544600</td>\n",
              "      <td>180400.000000</td>\n",
              "    </tr>\n",
              "    <tr>\n",
              "      <th>75%</th>\n",
              "      <td>-118.000000</td>\n",
              "      <td>37.720000</td>\n",
              "      <td>37.000000</td>\n",
              "      <td>3151.250000</td>\n",
              "      <td>648.250000</td>\n",
              "      <td>1721.000000</td>\n",
              "      <td>605.250000</td>\n",
              "      <td>4.767000</td>\n",
              "      <td>265000.000000</td>\n",
              "    </tr>\n",
              "    <tr>\n",
              "      <th>max</th>\n",
              "      <td>-114.310000</td>\n",
              "      <td>41.950000</td>\n",
              "      <td>52.000000</td>\n",
              "      <td>37937.000000</td>\n",
              "      <td>6445.000000</td>\n",
              "      <td>35682.000000</td>\n",
              "      <td>6082.000000</td>\n",
              "      <td>15.000100</td>\n",
              "      <td>500001.000000</td>\n",
              "    </tr>\n",
              "  </tbody>\n",
              "</table>\n",
              "</div>"
            ],
            "text/plain": [
              "          longitude      latitude  ...  median_income  median_house_value\n",
              "count  17000.000000  17000.000000  ...   17000.000000        17000.000000\n",
              "mean    -119.562108     35.625225  ...       3.883578       207300.912353\n",
              "std        2.005166      2.137340  ...       1.908157       115983.764387\n",
              "min     -124.350000     32.540000  ...       0.499900        14999.000000\n",
              "25%     -121.790000     33.930000  ...       2.566375       119400.000000\n",
              "50%     -118.490000     34.250000  ...       3.544600       180400.000000\n",
              "75%     -118.000000     37.720000  ...       4.767000       265000.000000\n",
              "max     -114.310000     41.950000  ...      15.000100       500001.000000\n",
              "\n",
              "[8 rows x 9 columns]"
            ]
          },
          "metadata": {
            "tags": []
          },
          "execution_count": 82
        }
      ]
    },
    {
      "cell_type": "code",
      "metadata": {
        "colab": {
          "base_uri": "https://localhost:8080/"
        },
        "id": "O2kqdO920A2n",
        "outputId": "a6cdecea-890d-4dd7-eef7-41dc35993799"
      },
      "source": [
        "print (train_dataset)"
      ],
      "execution_count": 83,
      "outputs": [
        {
          "output_type": "stream",
          "text": [
            "       longitude  latitude  ...  median_income  median_house_value\n",
            "0        -114.31     34.19  ...         1.4936             66900.0\n",
            "1        -114.47     34.40  ...         1.8200             80100.0\n",
            "2        -114.56     33.69  ...         1.6509             85700.0\n",
            "3        -114.57     33.64  ...         3.1917             73400.0\n",
            "4        -114.57     33.57  ...         1.9250             65500.0\n",
            "...          ...       ...  ...            ...                 ...\n",
            "16995    -124.26     40.58  ...         2.3571            111400.0\n",
            "16996    -124.27     40.69  ...         2.5179             79000.0\n",
            "16997    -124.30     41.84  ...         3.0313            103600.0\n",
            "16998    -124.30     41.80  ...         1.9797             85800.0\n",
            "16999    -124.35     40.54  ...         3.0147             94600.0\n",
            "\n",
            "[17000 rows x 9 columns]\n"
          ],
          "name": "stdout"
        }
      ]
    },
    {
      "cell_type": "code",
      "metadata": {
        "colab": {
          "base_uri": "https://localhost:8080/"
        },
        "id": "R1BxOf7n0H3_",
        "outputId": "b184b97c-a951-4874-be9b-ba51de67edb4"
      },
      "source": [
        "print(train_dataset.isnull().sum())"
      ],
      "execution_count": 84,
      "outputs": [
        {
          "output_type": "stream",
          "text": [
            "longitude             0\n",
            "latitude              0\n",
            "housing_median_age    0\n",
            "total_rooms           0\n",
            "total_bedrooms        0\n",
            "population            0\n",
            "households            0\n",
            "median_income         0\n",
            "median_house_value    0\n",
            "dtype: int64\n"
          ],
          "name": "stdout"
        }
      ]
    },
    {
      "cell_type": "code",
      "metadata": {
        "colab": {
          "base_uri": "https://localhost:8080/"
        },
        "id": "Xk5Jcojv0Nw_",
        "outputId": "9e07691d-bbdf-49b9-a840-c5dc4b9a4f59"
      },
      "source": [
        "print (test_dataset.isnull().sum())"
      ],
      "execution_count": 85,
      "outputs": [
        {
          "output_type": "stream",
          "text": [
            "longitude             0\n",
            "latitude              0\n",
            "housing_median_age    0\n",
            "total_rooms           0\n",
            "total_bedrooms        0\n",
            "population            0\n",
            "households            0\n",
            "median_income         0\n",
            "median_house_value    0\n",
            "dtype: int64\n"
          ],
          "name": "stdout"
        }
      ]
    },
    {
      "cell_type": "code",
      "metadata": {
        "colab": {
          "base_uri": "https://localhost:8080/"
        },
        "id": "_s1rd8R-01Hi",
        "outputId": "ed129661-cf08-44a7-bb2d-224ff43a241e"
      },
      "source": [
        "print(train_dataset.corr())"
      ],
      "execution_count": 86,
      "outputs": [
        {
          "output_type": "stream",
          "text": [
            "                    longitude  latitude  ...  median_income  median_house_value\n",
            "longitude            1.000000 -0.925208  ...      -0.015485           -0.044982\n",
            "latitude            -0.925208  1.000000  ...      -0.080303           -0.144917\n",
            "housing_median_age  -0.114250  0.016454  ...      -0.115932            0.106758\n",
            "total_rooms          0.047010 -0.038773  ...       0.195383            0.130991\n",
            "total_bedrooms       0.071802 -0.069373  ...      -0.013495            0.045783\n",
            "population           0.101674 -0.111261  ...      -0.000638           -0.027850\n",
            "households           0.059628 -0.074902  ...       0.007644            0.061031\n",
            "median_income       -0.015485 -0.080303  ...       1.000000            0.691871\n",
            "median_house_value  -0.044982 -0.144917  ...       0.691871            1.000000\n",
            "\n",
            "[9 rows x 9 columns]\n"
          ],
          "name": "stdout"
        }
      ]
    },
    {
      "cell_type": "code",
      "metadata": {
        "colab": {
          "base_uri": "https://localhost:8080/",
          "height": 655
        },
        "id": "S3nEEEiW02OD",
        "outputId": "3d35ffb4-2a70-430c-cbb6-acf78df30053"
      },
      "source": [
        "sns.heatmap(train_dataset.corr(),annot=True,cmap='RdYlGn',linewidths=0.2) #data.corr()-->correlation matrix\n",
        "fig=plt.gcf()\n",
        "fig.set_size_inches(10,8)\n",
        "plt.show()"
      ],
      "execution_count": 87,
      "outputs": [
        {
          "output_type": "display_data",
          "data": {
            "image/png": "[encoded data removed]",
            "text/plain": [
              "<Figure size 720x576 with 2 Axes>"
            ]
          },
          "metadata": {
            "tags": []
          }
        }
      ]
    },
    {
      "cell_type": "code",
      "metadata": {
        "colab": {
          "base_uri": "https://localhost:8080/",
          "height": 221
        },
        "id": "4PGObpON06cJ",
        "outputId": "78c00cf2-4481-4f6d-e3cf-ab248c517d13"
      },
      "source": [
        "features_col=['longitude','housing_median_age','total_rooms','median_income']\n",
        "train_ds = train_dataset[features_col]\n",
        "test_ds = test_dataset[features_col]\n",
        "train_label = train_dataset['median_house_value']\n",
        "print(train_ds.columns)\n",
        "train_ds.head()"
      ],
      "execution_count": 88,
      "outputs": [
        {
          "output_type": "stream",
          "text": [
            "Index(['longitude', 'housing_median_age', 'total_rooms', 'median_income'], dtype='object')\n"
          ],
          "name": "stdout"
        },
        {
          "output_type": "execute_result",
          "data": {
            "text/html": [
              "<div>\n",
              "<style scoped>\n",
              "    .dataframe tbody tr th:only-of-type {\n",
              "        vertical-align: middle;\n",
              "    }\n",
              "\n",
              "    .dataframe tbody tr th {\n",
              "        vertical-align: top;\n",
              "    }\n",
              "\n",
              "    .dataframe thead th {\n",
              "        text-align: right;\n",
              "    }\n",
              "</style>\n",
              "<table border=\"1\" class=\"dataframe\">\n",
              "  <thead>\n",
              "    <tr style=\"text-align: right;\">\n",
              "      <th></th>\n",
              "      <th>longitude</th>\n",
              "      <th>housing_median_age</th>\n",
              "      <th>total_rooms</th>\n",
              "      <th>median_income</th>\n",
              "    </tr>\n",
              "  </thead>\n",
              "  <tbody>\n",
              "    <tr>\n",
              "      <th>0</th>\n",
              "      <td>-114.31</td>\n",
              "      <td>15.0</td>\n",
              "      <td>5612.0</td>\n",
              "      <td>1.4936</td>\n",
              "    </tr>\n",
              "    <tr>\n",
              "      <th>1</th>\n",
              "      <td>-114.47</td>\n",
              "      <td>19.0</td>\n",
              "      <td>7650.0</td>\n",
              "      <td>1.8200</td>\n",
              "    </tr>\n",
              "    <tr>\n",
              "      <th>2</th>\n",
              "      <td>-114.56</td>\n",
              "      <td>17.0</td>\n",
              "      <td>720.0</td>\n",
              "      <td>1.6509</td>\n",
              "    </tr>\n",
              "    <tr>\n",
              "      <th>3</th>\n",
              "      <td>-114.57</td>\n",
              "      <td>14.0</td>\n",
              "      <td>1501.0</td>\n",
              "      <td>3.1917</td>\n",
              "    </tr>\n",
              "    <tr>\n",
              "      <th>4</th>\n",
              "      <td>-114.57</td>\n",
              "      <td>20.0</td>\n",
              "      <td>1454.0</td>\n",
              "      <td>1.9250</td>\n",
              "    </tr>\n",
              "  </tbody>\n",
              "</table>\n",
              "</div>"
            ],
            "text/plain": [
              "   longitude  housing_median_age  total_rooms  median_income\n",
              "0    -114.31                15.0       5612.0         1.4936\n",
              "1    -114.47                19.0       7650.0         1.8200\n",
              "2    -114.56                17.0        720.0         1.6509\n",
              "3    -114.57                14.0       1501.0         3.1917\n",
              "4    -114.57                20.0       1454.0         1.9250"
            ]
          },
          "metadata": {
            "tags": []
          },
          "execution_count": 88
        }
      ]
    },
    {
      "cell_type": "code",
      "metadata": {
        "id": "gHEZY2oC1ADy"
      },
      "source": [
        "training_scaler = StandardScaler()\n",
        "training_predictors = training_scaler.fit_transform(train_ds)"
      ],
      "execution_count": 89,
      "outputs": []
    },
    {
      "cell_type": "code",
      "metadata": {
        "id": "iWDm2JpD3Po9"
      },
      "source": [
        "X_train, X_test, y_train, y_test = train_test_split(training_predictors, train_label, test_size=0.20)"
      ],
      "execution_count": 90,
      "outputs": []
    },
    {
      "cell_type": "code",
      "metadata": {
        "id": "SNhaF4nB3Z7x"
      },
      "source": [
        "model = Sequential()\n",
        "model.add(Dense(8,activation='relu'))\n",
        "model.add(Dropout(0.5))\n",
        "model.add(Dense(3,activation='relu'))\n",
        "model.add(Dropout(0.5))\n",
        "model.add(Dense(1))\n",
        "model.compile(optimizer='adam', loss='mse')"
      ],
      "execution_count": 100,
      "outputs": []
    },
    {
      "cell_type": "code",
      "metadata": {
        "colab": {
          "base_uri": "https://localhost:8080/"
        },
        "id": "aAtdB5wt4pUb",
        "outputId": "34bb4da2-d560-442a-eb0e-ecebf7bf7230"
      },
      "source": [
        "from tensorflow.keras.callbacks import EarlyStopping\n",
        "early_stop = EarlyStopping(monitor='val_loss', mode='min', verbose=1, patience=10)\n",
        "model.fit(x=X_train,y=y_train.values,\n",
        "          validation_data=(X_test,y_test.values),\n",
        "          batch_size=128,epochs=400, callbacks=[early_stop])"
      ],
      "execution_count": 103,
      "outputs": [
        {
          "output_type": "stream",
          "text": [
            "Epoch 1/400\n",
            "107/107 [==============================] - 1s 3ms/step - loss: 56064086016.0000 - val_loss: 57868652544.0000\n",
            "Epoch 2/400\n",
            "107/107 [==============================] - 0s 2ms/step - loss: 56063811584.0000 - val_loss: 57868251136.0000\n",
            "Epoch 3/400\n",
            "107/107 [==============================] - 0s 2ms/step - loss: 56063283200.0000 - val_loss: 57867513856.0000\n",
            "Epoch 4/400\n",
            "107/107 [==============================] - 0s 2ms/step - loss: 56062373888.0000 - val_loss: 57866350592.0000\n",
            "Epoch 5/400\n",
            "107/107 [==============================] - 0s 2ms/step - loss: 56060923904.0000 - val_loss: 57864589312.0000\n",
            "Epoch 6/400\n",
            "107/107 [==============================] - 0s 2ms/step - loss: 56058929152.0000 - val_loss: 57862070272.0000\n",
            "Epoch 7/400\n",
            "107/107 [==============================] - 0s 2ms/step - loss: 56055947264.0000 - val_loss: 57858551808.0000\n",
            "Epoch 8/400\n",
            "107/107 [==============================] - 0s 2ms/step - loss: 56052404224.0000 - val_loss: 57853898752.0000\n",
            "Epoch 9/400\n",
            "107/107 [==============================] - 0s 2ms/step - loss: 56046055424.0000 - val_loss: 57847410688.0000\n",
            "Epoch 10/400\n",
            "107/107 [==============================] - 0s 2ms/step - loss: 56039067648.0000 - val_loss: 57839493120.0000\n",
            "Epoch 11/400\n",
            "107/107 [==============================] - 0s 2ms/step - loss: 56031756288.0000 - val_loss: 57830109184.0000\n",
            "Epoch 12/400\n",
            "107/107 [==============================] - 0s 2ms/step - loss: 56019865600.0000 - val_loss: 57818640384.0000\n",
            "Epoch 13/400\n",
            "107/107 [==============================] - 0s 2ms/step - loss: 56007286784.0000 - val_loss: 57805303808.0000\n",
            "Epoch 14/400\n",
            "107/107 [==============================] - 0s 2ms/step - loss: 55996112896.0000 - val_loss: 57790574592.0000\n",
            "Epoch 15/400\n",
            "107/107 [==============================] - 0s 2ms/step - loss: 55982022656.0000 - val_loss: 57774313472.0000\n",
            "Epoch 16/400\n",
            "107/107 [==============================] - 0s 2ms/step - loss: 55961976832.0000 - val_loss: 57755320320.0000\n",
            "Epoch 17/400\n",
            "107/107 [==============================] - 0s 2ms/step - loss: 55942561792.0000 - val_loss: 57734307840.0000\n",
            "Epoch 18/400\n",
            "107/107 [==============================] - 0s 2ms/step - loss: 55922212864.0000 - val_loss: 57711628288.0000\n",
            "Epoch 19/400\n",
            "107/107 [==============================] - 0s 2ms/step - loss: 55897489408.0000 - val_loss: 57686544384.0000\n",
            "Epoch 20/400\n",
            "107/107 [==============================] - 0s 2ms/step - loss: 55870726144.0000 - val_loss: 57659179008.0000\n",
            "Epoch 21/400\n",
            "107/107 [==============================] - 0s 2ms/step - loss: 55849336832.0000 - val_loss: 57630650368.0000\n",
            "Epoch 22/400\n",
            "107/107 [==============================] - 0s 2ms/step - loss: 55819501568.0000 - val_loss: 57599418368.0000\n",
            "Epoch 23/400\n",
            "107/107 [==============================] - 0s 2ms/step - loss: 55787036672.0000 - val_loss: 57566007296.0000\n",
            "Epoch 24/400\n",
            "107/107 [==============================] - 0s 2ms/step - loss: 55760592896.0000 - val_loss: 57531162624.0000\n",
            "Epoch 25/400\n",
            "107/107 [==============================] - 0s 2ms/step - loss: 55712378880.0000 - val_loss: 57492414464.0000\n",
            "Epoch 26/400\n",
            "107/107 [==============================] - 0s 2ms/step - loss: 55690575872.0000 - val_loss: 57452941312.0000\n",
            "Epoch 27/400\n",
            "107/107 [==============================] - 0s 2ms/step - loss: 55649329152.0000 - val_loss: 57411190784.0000\n",
            "Epoch 28/400\n",
            "107/107 [==============================] - 0s 2ms/step - loss: 55606874112.0000 - val_loss: 57366798336.0000\n",
            "Epoch 29/400\n",
            "107/107 [==============================] - 0s 2ms/step - loss: 55565058048.0000 - val_loss: 57319960576.0000\n",
            "Epoch 30/400\n",
            "107/107 [==============================] - 0s 2ms/step - loss: 55522275328.0000 - val_loss: 57270996992.0000\n",
            "Epoch 31/400\n",
            "107/107 [==============================] - 0s 2ms/step - loss: 55457447936.0000 - val_loss: 57218560000.0000\n",
            "Epoch 32/400\n",
            "107/107 [==============================] - 0s 2ms/step - loss: 55400804352.0000 - val_loss: 57163182080.0000\n",
            "Epoch 33/400\n",
            "107/107 [==============================] - 0s 2ms/step - loss: 55354814464.0000 - val_loss: 57106526208.0000\n",
            "Epoch 34/400\n",
            "107/107 [==============================] - 0s 2ms/step - loss: 55296999424.0000 - val_loss: 57047162880.0000\n",
            "Epoch 35/400\n",
            "107/107 [==============================] - 0s 2ms/step - loss: 55252877312.0000 - val_loss: 56986152960.0000\n",
            "Epoch 36/400\n",
            "107/107 [==============================] - 0s 2ms/step - loss: 55191756800.0000 - val_loss: 56922611712.0000\n",
            "Epoch 37/400\n",
            "107/107 [==============================] - 0s 2ms/step - loss: 55108550656.0000 - val_loss: 56854851584.0000\n",
            "Epoch 38/400\n",
            "107/107 [==============================] - 0s 2ms/step - loss: 55025770496.0000 - val_loss: 56783867904.0000\n",
            "Epoch 39/400\n",
            "107/107 [==============================] - 0s 2ms/step - loss: 54983393280.0000 - val_loss: 56712085504.0000\n",
            "Epoch 40/400\n",
            "107/107 [==============================] - 0s 2ms/step - loss: 54905126912.0000 - val_loss: 56637214720.0000\n",
            "Epoch 41/400\n",
            "107/107 [==============================] - 0s 2ms/step - loss: 54850703360.0000 - val_loss: 56561098752.0000\n",
            "Epoch 42/400\n",
            "107/107 [==============================] - 0s 2ms/step - loss: 54780284928.0000 - val_loss: 56482648064.0000\n",
            "Epoch 43/400\n",
            "107/107 [==============================] - 0s 2ms/step - loss: 54707142656.0000 - val_loss: 56401330176.0000\n",
            "Epoch 44/400\n",
            "107/107 [==============================] - 0s 2ms/step - loss: 54562566144.0000 - val_loss: 56314482688.0000\n",
            "Epoch 45/400\n",
            "107/107 [==============================] - 0s 2ms/step - loss: 54539026432.0000 - val_loss: 56227278848.0000\n",
            "Epoch 46/400\n",
            "107/107 [==============================] - 0s 2ms/step - loss: 54417784832.0000 - val_loss: 56136081408.0000\n",
            "Epoch 47/400\n",
            "107/107 [==============================] - 0s 2ms/step - loss: 54329225216.0000 - val_loss: 56042266624.0000\n",
            "Epoch 48/400\n",
            "107/107 [==============================] - 0s 2ms/step - loss: 54276534272.0000 - val_loss: 55948517376.0000\n",
            "Epoch 49/400\n",
            "107/107 [==============================] - 0s 2ms/step - loss: 54176047104.0000 - val_loss: 55850725376.0000\n",
            "Epoch 50/400\n",
            "107/107 [==============================] - 0s 2ms/step - loss: 54103388160.0000 - val_loss: 55751852032.0000\n",
            "Epoch 51/400\n",
            "107/107 [==============================] - 0s 3ms/step - loss: 53988536320.0000 - val_loss: 55648788480.0000\n",
            "Epoch 52/400\n",
            "107/107 [==============================] - 0s 2ms/step - loss: 53901946880.0000 - val_loss: 55544229888.0000\n",
            "Epoch 53/400\n",
            "107/107 [==============================] - 0s 2ms/step - loss: 53759672320.0000 - val_loss: 55433990144.0000\n",
            "Epoch 54/400\n",
            "107/107 [==============================] - 0s 2ms/step - loss: 53776498688.0000 - val_loss: 55326728192.0000\n",
            "Epoch 55/400\n",
            "107/107 [==============================] - 0s 2ms/step - loss: 53573828608.0000 - val_loss: 55212740608.0000\n",
            "Epoch 56/400\n",
            "107/107 [==============================] - 0s 2ms/step - loss: 53457485824.0000 - val_loss: 55094841344.0000\n",
            "Epoch 57/400\n",
            "107/107 [==============================] - 0s 2ms/step - loss: 53318447104.0000 - val_loss: 54974169088.0000\n",
            "Epoch 58/400\n",
            "107/107 [==============================] - 0s 2ms/step - loss: 53245419520.0000 - val_loss: 54851780608.0000\n",
            "Epoch 59/400\n",
            "107/107 [==============================] - 0s 2ms/step - loss: 53192646656.0000 - val_loss: 54729134080.0000\n",
            "Epoch 60/400\n",
            "107/107 [==============================] - 0s 2ms/step - loss: 53055754240.0000 - val_loss: 54603739136.0000\n",
            "Epoch 61/400\n",
            "107/107 [==============================] - 0s 2ms/step - loss: 52958175232.0000 - val_loss: 54474158080.0000\n",
            "Epoch 62/400\n",
            "107/107 [==============================] - 0s 2ms/step - loss: 52693393408.0000 - val_loss: 54339571712.0000\n",
            "Epoch 63/400\n",
            "107/107 [==============================] - 0s 2ms/step - loss: 52622139392.0000 - val_loss: 54200156160.0000\n",
            "Epoch 64/400\n",
            "107/107 [==============================] - 0s 2ms/step - loss: 52521394176.0000 - val_loss: 54062358528.0000\n",
            "Epoch 65/400\n",
            "107/107 [==============================] - 0s 2ms/step - loss: 52590661632.0000 - val_loss: 53927759872.0000\n",
            "Epoch 66/400\n",
            "107/107 [==============================] - 0s 2ms/step - loss: 52375871488.0000 - val_loss: 53788618752.0000\n",
            "Epoch 67/400\n",
            "107/107 [==============================] - 0s 2ms/step - loss: 52147740672.0000 - val_loss: 53640282112.0000\n",
            "Epoch 68/400\n",
            "107/107 [==============================] - 0s 2ms/step - loss: 51984547840.0000 - val_loss: 53489180672.0000\n",
            "Epoch 69/400\n",
            "107/107 [==============================] - 0s 2ms/step - loss: 51872772096.0000 - val_loss: 53336682496.0000\n",
            "Epoch 70/400\n",
            "107/107 [==============================] - 0s 2ms/step - loss: 51803148288.0000 - val_loss: 53184516096.0000\n",
            "Epoch 71/400\n",
            "107/107 [==============================] - 0s 2ms/step - loss: 51688386560.0000 - val_loss: 53029629952.0000\n",
            "Epoch 72/400\n",
            "107/107 [==============================] - 0s 2ms/step - loss: 51390615552.0000 - val_loss: 52866613248.0000\n",
            "Epoch 73/400\n",
            "107/107 [==============================] - 0s 2ms/step - loss: 51341406208.0000 - val_loss: 52704567296.0000\n",
            "Epoch 74/400\n",
            "107/107 [==============================] - 0s 2ms/step - loss: 51164803072.0000 - val_loss: 52537585664.0000\n",
            "Epoch 75/400\n",
            "107/107 [==============================] - 0s 2ms/step - loss: 51073273856.0000 - val_loss: 52370087936.0000\n",
            "Epoch 76/400\n",
            "107/107 [==============================] - 0s 2ms/step - loss: 51006038016.0000 - val_loss: 52202635264.0000\n",
            "Epoch 77/400\n",
            "107/107 [==============================] - 0s 2ms/step - loss: 50697134080.0000 - val_loss: 52026011648.0000\n",
            "Epoch 78/400\n",
            "107/107 [==============================] - 0s 2ms/step - loss: 50723553280.0000 - val_loss: 51854016512.0000\n",
            "Epoch 79/400\n",
            "107/107 [==============================] - 0s 2ms/step - loss: 50394537984.0000 - val_loss: 51672363008.0000\n",
            "Epoch 80/400\n",
            "107/107 [==============================] - 0s 2ms/step - loss: 50297655296.0000 - val_loss: 51491594240.0000\n",
            "Epoch 81/400\n",
            "107/107 [==============================] - 0s 2ms/step - loss: 50239004672.0000 - val_loss: 51309477888.0000\n",
            "Epoch 82/400\n",
            "107/107 [==============================] - 0s 2ms/step - loss: 49887170560.0000 - val_loss: 51119484928.0000\n",
            "Epoch 83/400\n",
            "107/107 [==============================] - 0s 2ms/step - loss: 49861234688.0000 - val_loss: 50931634176.0000\n",
            "Epoch 84/400\n",
            "107/107 [==============================] - 0s 2ms/step - loss: 49557794816.0000 - val_loss: 50736873472.0000\n",
            "Epoch 85/400\n",
            "107/107 [==============================] - 0s 2ms/step - loss: 49565540352.0000 - val_loss: 50543190016.0000\n",
            "Epoch 86/400\n",
            "107/107 [==============================] - 0s 2ms/step - loss: 49245593600.0000 - val_loss: 50345971712.0000\n",
            "Epoch 87/400\n",
            "107/107 [==============================] - 0s 2ms/step - loss: 49277984768.0000 - val_loss: 50146353152.0000\n",
            "Epoch 88/400\n",
            "107/107 [==============================] - 0s 2ms/step - loss: 48789520384.0000 - val_loss: 49940348928.0000\n",
            "Epoch 89/400\n",
            "107/107 [==============================] - 0s 2ms/step - loss: 48787582976.0000 - val_loss: 49734119424.0000\n",
            "Epoch 90/400\n",
            "107/107 [==============================] - 0s 2ms/step - loss: 48673845248.0000 - val_loss: 49527529472.0000\n",
            "Epoch 91/400\n",
            "107/107 [==============================] - 0s 2ms/step - loss: 48626765824.0000 - val_loss: 49319301120.0000\n",
            "Epoch 92/400\n",
            "107/107 [==============================] - 0s 2ms/step - loss: 48366637056.0000 - val_loss: 49110290432.0000\n",
            "Epoch 93/400\n",
            "107/107 [==============================] - 0s 2ms/step - loss: 48301277184.0000 - val_loss: 48896143360.0000\n",
            "Epoch 94/400\n",
            "107/107 [==============================] - 0s 2ms/step - loss: 47987630080.0000 - val_loss: 48678268928.0000\n",
            "Epoch 95/400\n",
            "107/107 [==============================] - 0s 2ms/step - loss: 47548289024.0000 - val_loss: 48451457024.0000\n",
            "Epoch 96/400\n",
            "107/107 [==============================] - 0s 3ms/step - loss: 47666008064.0000 - val_loss: 48230354944.0000\n",
            "Epoch 97/400\n",
            "107/107 [==============================] - 0s 2ms/step - loss: 46989344768.0000 - val_loss: 47998238720.0000\n",
            "Epoch 98/400\n",
            "107/107 [==============================] - 0s 2ms/step - loss: 47450071040.0000 - val_loss: 47771799552.0000\n",
            "Epoch 99/400\n",
            "107/107 [==============================] - 0s 2ms/step - loss: 47175684096.0000 - val_loss: 47545987072.0000\n",
            "Epoch 100/400\n",
            "107/107 [==============================] - 0s 2ms/step - loss: 46747717632.0000 - val_loss: 47310585856.0000\n",
            "Epoch 101/400\n",
            "107/107 [==============================] - 0s 2ms/step - loss: 46517747712.0000 - val_loss: 47072169984.0000\n",
            "Epoch 102/400\n",
            "107/107 [==============================] - 0s 2ms/step - loss: 46254297088.0000 - val_loss: 46830489600.0000\n",
            "Epoch 103/400\n",
            "107/107 [==============================] - 0s 2ms/step - loss: 46190899200.0000 - val_loss: 46590062592.0000\n",
            "Epoch 104/400\n",
            "107/107 [==============================] - 0s 2ms/step - loss: 46124261376.0000 - val_loss: 46351421440.0000\n",
            "Epoch 105/400\n",
            "107/107 [==============================] - 0s 2ms/step - loss: 45839413248.0000 - val_loss: 46108274688.0000\n",
            "Epoch 106/400\n",
            "107/107 [==============================] - 0s 2ms/step - loss: 45765525504.0000 - val_loss: 45865951232.0000\n",
            "Epoch 107/400\n",
            "107/107 [==============================] - 0s 2ms/step - loss: 45640491008.0000 - val_loss: 45622919168.0000\n",
            "Epoch 108/400\n",
            "107/107 [==============================] - 0s 2ms/step - loss: 45314334720.0000 - val_loss: 45374808064.0000\n",
            "Epoch 109/400\n",
            "107/107 [==============================] - 0s 2ms/step - loss: 45417848832.0000 - val_loss: 45127233536.0000\n",
            "Epoch 110/400\n",
            "107/107 [==============================] - 0s 2ms/step - loss: 45043834880.0000 - val_loss: 44875649024.0000\n",
            "Epoch 111/400\n",
            "107/107 [==============================] - 0s 2ms/step - loss: 45046362112.0000 - val_loss: 44624977920.0000\n",
            "Epoch 112/400\n",
            "107/107 [==============================] - 0s 2ms/step - loss: 44739284992.0000 - val_loss: 44369850368.0000\n",
            "Epoch 113/400\n",
            "107/107 [==============================] - 0s 2ms/step - loss: 44498481152.0000 - val_loss: 44111134720.0000\n",
            "Epoch 114/400\n",
            "107/107 [==============================] - 0s 2ms/step - loss: 44073336832.0000 - val_loss: 43848245248.0000\n",
            "Epoch 115/400\n",
            "107/107 [==============================] - 0s 2ms/step - loss: 44055527424.0000 - val_loss: 43585232896.0000\n",
            "Epoch 116/400\n",
            "107/107 [==============================] - 0s 2ms/step - loss: 44120223744.0000 - val_loss: 43328024576.0000\n",
            "Epoch 117/400\n",
            "107/107 [==============================] - 0s 2ms/step - loss: 43719446528.0000 - val_loss: 43064627200.0000\n",
            "Epoch 118/400\n",
            "107/107 [==============================] - 0s 2ms/step - loss: 43288862720.0000 - val_loss: 42795192320.0000\n",
            "Epoch 119/400\n",
            "107/107 [==============================] - 0s 2ms/step - loss: 43712315392.0000 - val_loss: 42533781504.0000\n",
            "Epoch 120/400\n",
            "107/107 [==============================] - 0s 2ms/step - loss: 43221696512.0000 - val_loss: 42268291072.0000\n",
            "Epoch 121/400\n",
            "107/107 [==============================] - 0s 2ms/step - loss: 43051884544.0000 - val_loss: 41997570048.0000\n",
            "Epoch 122/400\n",
            "107/107 [==============================] - 0s 2ms/step - loss: 42883620864.0000 - val_loss: 41730850816.0000\n",
            "Epoch 123/400\n",
            "107/107 [==============================] - 0s 2ms/step - loss: 42633043968.0000 - val_loss: 41460969472.0000\n",
            "Epoch 124/400\n",
            "107/107 [==============================] - 0s 2ms/step - loss: 42189254656.0000 - val_loss: 41182429184.0000\n",
            "Epoch 125/400\n",
            "107/107 [==============================] - 0s 2ms/step - loss: 42292633600.0000 - val_loss: 40908132352.0000\n",
            "Epoch 126/400\n",
            "107/107 [==============================] - 0s 2ms/step - loss: 41927999488.0000 - val_loss: 40632676352.0000\n",
            "Epoch 127/400\n",
            "107/107 [==============================] - 0s 2ms/step - loss: 41837985792.0000 - val_loss: 40354189312.0000\n",
            "Epoch 128/400\n",
            "107/107 [==============================] - 0s 2ms/step - loss: 41758121984.0000 - val_loss: 40078991360.0000\n",
            "Epoch 129/400\n",
            "107/107 [==============================] - 0s 2ms/step - loss: 41800429568.0000 - val_loss: 39809916928.0000\n",
            "Epoch 130/400\n",
            "107/107 [==============================] - 0s 2ms/step - loss: 41405894656.0000 - val_loss: 39535284224.0000\n",
            "Epoch 131/400\n",
            "107/107 [==============================] - 0s 2ms/step - loss: 41452089344.0000 - val_loss: 39262568448.0000\n",
            "Epoch 132/400\n",
            "107/107 [==============================] - 0s 2ms/step - loss: 41088774144.0000 - val_loss: 38986973184.0000\n",
            "Epoch 133/400\n",
            "107/107 [==============================] - 0s 2ms/step - loss: 41240592384.0000 - val_loss: 38716063744.0000\n",
            "Epoch 134/400\n",
            "107/107 [==============================] - 0s 2ms/step - loss: 41188417536.0000 - val_loss: 38446522368.0000\n",
            "Epoch 135/400\n",
            "107/107 [==============================] - 0s 2ms/step - loss: 40703438848.0000 - val_loss: 38166380544.0000\n",
            "Epoch 136/400\n",
            "107/107 [==============================] - 0s 2ms/step - loss: 40724766720.0000 - val_loss: 37887803392.0000\n",
            "Epoch 137/400\n",
            "107/107 [==============================] - 0s 2ms/step - loss: 40125960192.0000 - val_loss: 37608165376.0000\n",
            "Epoch 138/400\n",
            "107/107 [==============================] - 0s 2ms/step - loss: 40210808832.0000 - val_loss: 37333938176.0000\n",
            "Epoch 139/400\n",
            "107/107 [==============================] - 0s 2ms/step - loss: 40222408704.0000 - val_loss: 37062840320.0000\n",
            "Epoch 140/400\n",
            "107/107 [==============================] - 0s 2ms/step - loss: 40026238976.0000 - val_loss: 36791570432.0000\n",
            "Epoch 141/400\n",
            "107/107 [==============================] - 0s 2ms/step - loss: 39832973312.0000 - val_loss: 36522930176.0000\n",
            "Epoch 142/400\n",
            "107/107 [==============================] - 0s 2ms/step - loss: 39765901312.0000 - val_loss: 36256870400.0000\n",
            "Epoch 143/400\n",
            "107/107 [==============================] - 0s 2ms/step - loss: 39187820544.0000 - val_loss: 35976732672.0000\n",
            "Epoch 144/400\n",
            "107/107 [==============================] - 0s 2ms/step - loss: 39890370560.0000 - val_loss: 35717746688.0000\n",
            "Epoch 145/400\n",
            "107/107 [==============================] - 0s 2ms/step - loss: 39487463424.0000 - val_loss: 35451817984.0000\n",
            "Epoch 146/400\n",
            "107/107 [==============================] - 0s 2ms/step - loss: 39571308544.0000 - val_loss: 35194585088.0000\n",
            "Epoch 147/400\n",
            "107/107 [==============================] - 0s 2ms/step - loss: 39232913408.0000 - val_loss: 34924175360.0000\n",
            "Epoch 148/400\n",
            "107/107 [==============================] - 0s 2ms/step - loss: 38905171968.0000 - val_loss: 34658746368.0000\n",
            "Epoch 149/400\n",
            "107/107 [==============================] - 0s 2ms/step - loss: 38978658304.0000 - val_loss: 34389897216.0000\n",
            "Epoch 150/400\n",
            "107/107 [==============================] - 0s 2ms/step - loss: 38753382400.0000 - val_loss: 34126274560.0000\n",
            "Epoch 151/400\n",
            "107/107 [==============================] - 0s 2ms/step - loss: 38609985536.0000 - val_loss: 33863448576.0000\n",
            "Epoch 152/400\n",
            "107/107 [==============================] - 0s 2ms/step - loss: 38566092800.0000 - val_loss: 33602289664.0000\n",
            "Epoch 153/400\n",
            "107/107 [==============================] - 0s 2ms/step - loss: 38754496512.0000 - val_loss: 33352116224.0000\n",
            "Epoch 154/400\n",
            "107/107 [==============================] - 0s 2ms/step - loss: 38054567936.0000 - val_loss: 33102110720.0000\n",
            "Epoch 155/400\n",
            "107/107 [==============================] - 0s 2ms/step - loss: 38710779904.0000 - val_loss: 32864532480.0000\n",
            "Epoch 156/400\n",
            "107/107 [==============================] - 0s 2ms/step - loss: 38260154368.0000 - val_loss: 32625321984.0000\n",
            "Epoch 157/400\n",
            "107/107 [==============================] - 0s 2ms/step - loss: 37717778432.0000 - val_loss: 32380192768.0000\n",
            "Epoch 158/400\n",
            "107/107 [==============================] - 0s 2ms/step - loss: 37942198272.0000 - val_loss: 32143411200.0000\n",
            "Epoch 159/400\n",
            "107/107 [==============================] - 0s 2ms/step - loss: 38102966272.0000 - val_loss: 31909793792.0000\n",
            "Epoch 160/400\n",
            "107/107 [==============================] - 0s 2ms/step - loss: 38104739840.0000 - val_loss: 31685752832.0000\n",
            "Epoch 161/400\n",
            "107/107 [==============================] - 0s 3ms/step - loss: 38036905984.0000 - val_loss: 31457886208.0000\n",
            "Epoch 162/400\n",
            "107/107 [==============================] - 0s 2ms/step - loss: 37255593984.0000 - val_loss: 31226337280.0000\n",
            "Epoch 163/400\n",
            "107/107 [==============================] - 0s 2ms/step - loss: 37538025472.0000 - val_loss: 31000895488.0000\n",
            "Epoch 164/400\n",
            "107/107 [==============================] - 0s 2ms/step - loss: 38249132032.0000 - val_loss: 30803144704.0000\n",
            "Epoch 165/400\n",
            "107/107 [==============================] - 0s 2ms/step - loss: 37799653376.0000 - val_loss: 30607403008.0000\n",
            "Epoch 166/400\n",
            "107/107 [==============================] - 0s 2ms/step - loss: 37867880448.0000 - val_loss: 30403035136.0000\n",
            "Epoch 167/400\n",
            "107/107 [==============================] - 0s 2ms/step - loss: 37108113408.0000 - val_loss: 30184525824.0000\n",
            "Epoch 168/400\n",
            "107/107 [==============================] - 0s 2ms/step - loss: 37108006912.0000 - val_loss: 29984372736.0000\n",
            "Epoch 169/400\n",
            "107/107 [==============================] - 0s 2ms/step - loss: 37053800448.0000 - val_loss: 29760604160.0000\n",
            "Epoch 170/400\n",
            "107/107 [==============================] - 0s 2ms/step - loss: 37492191232.0000 - val_loss: 29571981312.0000\n",
            "Epoch 171/400\n",
            "107/107 [==============================] - 0s 2ms/step - loss: 36945457152.0000 - val_loss: 29383827456.0000\n",
            "Epoch 172/400\n",
            "107/107 [==============================] - 0s 2ms/step - loss: 37346684928.0000 - val_loss: 29193349120.0000\n",
            "Epoch 173/400\n",
            "107/107 [==============================] - 0s 2ms/step - loss: 37331058688.0000 - val_loss: 29032294400.0000\n",
            "Epoch 174/400\n",
            "107/107 [==============================] - 0s 2ms/step - loss: 36712607744.0000 - val_loss: 28834396160.0000\n",
            "Epoch 175/400\n",
            "107/107 [==============================] - 0s 2ms/step - loss: 36589441024.0000 - val_loss: 28671952896.0000\n",
            "Epoch 176/400\n",
            "107/107 [==============================] - 0s 2ms/step - loss: 36924502016.0000 - val_loss: 28510779392.0000\n",
            "Epoch 177/400\n",
            "107/107 [==============================] - 0s 2ms/step - loss: 37312815104.0000 - val_loss: 28347453440.0000\n",
            "Epoch 178/400\n",
            "107/107 [==============================] - 0s 2ms/step - loss: 37428617216.0000 - val_loss: 28183724032.0000\n",
            "Epoch 179/400\n",
            "107/107 [==============================] - 0s 2ms/step - loss: 37498953728.0000 - val_loss: 28043741184.0000\n",
            "Epoch 180/400\n",
            "107/107 [==============================] - 0s 2ms/step - loss: 36936892416.0000 - val_loss: 27916877824.0000\n",
            "Epoch 181/400\n",
            "107/107 [==============================] - 0s 2ms/step - loss: 36654448640.0000 - val_loss: 27771576320.0000\n",
            "Epoch 182/400\n",
            "107/107 [==============================] - 0s 2ms/step - loss: 36621942784.0000 - val_loss: 27623092224.0000\n",
            "Epoch 183/400\n",
            "107/107 [==============================] - 0s 2ms/step - loss: 36872163328.0000 - val_loss: 27492014080.0000\n",
            "Epoch 184/400\n",
            "107/107 [==============================] - 0s 2ms/step - loss: 36844388352.0000 - val_loss: 27359123456.0000\n",
            "Epoch 185/400\n",
            "107/107 [==============================] - 0s 2ms/step - loss: 36610187264.0000 - val_loss: 27216136192.0000\n",
            "Epoch 186/400\n",
            "107/107 [==============================] - 0s 2ms/step - loss: 36963307520.0000 - val_loss: 27065819136.0000\n",
            "Epoch 187/400\n",
            "107/107 [==============================] - 0s 2ms/step - loss: 36937068544.0000 - val_loss: 26947893248.0000\n",
            "Epoch 188/400\n",
            "107/107 [==============================] - 0s 3ms/step - loss: 36604256256.0000 - val_loss: 26860544000.0000\n",
            "Epoch 189/400\n",
            "107/107 [==============================] - 0s 2ms/step - loss: 36760068096.0000 - val_loss: 26780557312.0000\n",
            "Epoch 190/400\n",
            "107/107 [==============================] - 0s 2ms/step - loss: 36327997440.0000 - val_loss: 26684549120.0000\n",
            "Epoch 191/400\n",
            "107/107 [==============================] - 0s 2ms/step - loss: 36063170560.0000 - val_loss: 26609958912.0000\n",
            "Epoch 192/400\n",
            "107/107 [==============================] - 0s 2ms/step - loss: 36894547968.0000 - val_loss: 26572349440.0000\n",
            "Epoch 193/400\n",
            "107/107 [==============================] - 0s 2ms/step - loss: 36567314432.0000 - val_loss: 26483879936.0000\n",
            "Epoch 194/400\n",
            "107/107 [==============================] - 0s 2ms/step - loss: 36770615296.0000 - val_loss: 26426961920.0000\n",
            "Epoch 195/400\n",
            "107/107 [==============================] - 0s 2ms/step - loss: 37088739328.0000 - val_loss: 26383091712.0000\n",
            "Epoch 196/400\n",
            "107/107 [==============================] - 0s 2ms/step - loss: 36425801728.0000 - val_loss: 26318141440.0000\n",
            "Epoch 197/400\n",
            "107/107 [==============================] - 0s 2ms/step - loss: 37100273664.0000 - val_loss: 26267357184.0000\n",
            "Epoch 198/400\n",
            "107/107 [==============================] - 0s 2ms/step - loss: 36721352704.0000 - val_loss: 26219270144.0000\n",
            "Epoch 199/400\n",
            "107/107 [==============================] - 0s 2ms/step - loss: 36425138176.0000 - val_loss: 26137839616.0000\n",
            "Epoch 200/400\n",
            "107/107 [==============================] - 0s 2ms/step - loss: 37028155392.0000 - val_loss: 26098345984.0000\n",
            "Epoch 201/400\n",
            "107/107 [==============================] - 0s 2ms/step - loss: 36461142016.0000 - val_loss: 26042736640.0000\n",
            "Epoch 202/400\n",
            "107/107 [==============================] - 0s 2ms/step - loss: 36131233792.0000 - val_loss: 26001403904.0000\n",
            "Epoch 203/400\n",
            "107/107 [==============================] - 0s 2ms/step - loss: 36124188672.0000 - val_loss: 25922916352.0000\n",
            "Epoch 204/400\n",
            "107/107 [==============================] - 0s 2ms/step - loss: 36655595520.0000 - val_loss: 25887565824.0000\n",
            "Epoch 205/400\n",
            "107/107 [==============================] - 0s 2ms/step - loss: 36376977408.0000 - val_loss: 25825112064.0000\n",
            "Epoch 206/400\n",
            "107/107 [==============================] - 0s 2ms/step - loss: 36191678464.0000 - val_loss: 25771704320.0000\n",
            "Epoch 207/400\n",
            "107/107 [==============================] - 0s 2ms/step - loss: 36276609024.0000 - val_loss: 25734678528.0000\n",
            "Epoch 208/400\n",
            "107/107 [==============================] - 0s 2ms/step - loss: 36731715584.0000 - val_loss: 25716817920.0000\n",
            "Epoch 209/400\n",
            "107/107 [==============================] - 0s 2ms/step - loss: 36111011840.0000 - val_loss: 25731895296.0000\n",
            "Epoch 210/400\n",
            "107/107 [==============================] - 0s 2ms/step - loss: 36460339200.0000 - val_loss: 25694464000.0000\n",
            "Epoch 211/400\n",
            "107/107 [==============================] - 0s 2ms/step - loss: 36077289472.0000 - val_loss: 25670033408.0000\n",
            "Epoch 212/400\n",
            "107/107 [==============================] - 0s 2ms/step - loss: 36624044032.0000 - val_loss: 25615503360.0000\n",
            "Epoch 213/400\n",
            "107/107 [==============================] - 0s 2ms/step - loss: 36526379008.0000 - val_loss: 25572788224.0000\n",
            "Epoch 214/400\n",
            "107/107 [==============================] - 0s 2ms/step - loss: 36358311936.0000 - val_loss: 25501888512.0000\n",
            "Epoch 215/400\n",
            "107/107 [==============================] - 0s 2ms/step - loss: 35774283776.0000 - val_loss: 25423777792.0000\n",
            "Epoch 216/400\n",
            "107/107 [==============================] - 0s 2ms/step - loss: 36495527936.0000 - val_loss: 25402957824.0000\n",
            "Epoch 217/400\n",
            "107/107 [==============================] - 0s 2ms/step - loss: 36797472768.0000 - val_loss: 25377210368.0000\n",
            "Epoch 218/400\n",
            "107/107 [==============================] - 0s 2ms/step - loss: 35705077760.0000 - val_loss: 25357770752.0000\n",
            "Epoch 219/400\n",
            "107/107 [==============================] - 0s 2ms/step - loss: 36278521856.0000 - val_loss: 25357787136.0000\n",
            "Epoch 220/400\n",
            "107/107 [==============================] - 0s 2ms/step - loss: 36453748736.0000 - val_loss: 25362366464.0000\n",
            "Epoch 221/400\n",
            "107/107 [==============================] - 0s 2ms/step - loss: 36580589568.0000 - val_loss: 25340229632.0000\n",
            "Epoch 222/400\n",
            "107/107 [==============================] - 0s 3ms/step - loss: 35910184960.0000 - val_loss: 25300701184.0000\n",
            "Epoch 223/400\n",
            "107/107 [==============================] - 0s 2ms/step - loss: 36013465600.0000 - val_loss: 25271322624.0000\n",
            "Epoch 224/400\n",
            "107/107 [==============================] - 0s 2ms/step - loss: 36422533120.0000 - val_loss: 25227390976.0000\n",
            "Epoch 225/400\n",
            "107/107 [==============================] - 0s 2ms/step - loss: 36105228288.0000 - val_loss: 25192601600.0000\n",
            "Epoch 226/400\n",
            "107/107 [==============================] - 0s 2ms/step - loss: 36441358336.0000 - val_loss: 25164132352.0000\n",
            "Epoch 227/400\n",
            "107/107 [==============================] - 0s 2ms/step - loss: 36329091072.0000 - val_loss: 25146507264.0000\n",
            "Epoch 228/400\n",
            "107/107 [==============================] - 0s 2ms/step - loss: 36219011072.0000 - val_loss: 25129146368.0000\n",
            "Epoch 229/400\n",
            "107/107 [==============================] - 0s 2ms/step - loss: 36754067456.0000 - val_loss: 25121265664.0000\n",
            "Epoch 230/400\n",
            "107/107 [==============================] - 0s 2ms/step - loss: 36630392832.0000 - val_loss: 25111035904.0000\n",
            "Epoch 231/400\n",
            "107/107 [==============================] - 0s 2ms/step - loss: 36115124224.0000 - val_loss: 25064921088.0000\n",
            "Epoch 232/400\n",
            "107/107 [==============================] - 0s 2ms/step - loss: 36710027264.0000 - val_loss: 25078198272.0000\n",
            "Epoch 233/400\n",
            "107/107 [==============================] - 0s 2ms/step - loss: 36044644352.0000 - val_loss: 25091454976.0000\n",
            "Epoch 234/400\n",
            "107/107 [==============================] - 0s 2ms/step - loss: 36014424064.0000 - val_loss: 25042481152.0000\n",
            "Epoch 235/400\n",
            "107/107 [==============================] - 0s 2ms/step - loss: 35628118016.0000 - val_loss: 24981204992.0000\n",
            "Epoch 236/400\n",
            "107/107 [==============================] - 0s 3ms/step - loss: 36265619456.0000 - val_loss: 24939415552.0000\n",
            "Epoch 237/400\n",
            "107/107 [==============================] - 0s 2ms/step - loss: 36917030912.0000 - val_loss: 24963721216.0000\n",
            "Epoch 238/400\n",
            "107/107 [==============================] - 0s 2ms/step - loss: 36234371072.0000 - val_loss: 24962387968.0000\n",
            "Epoch 239/400\n",
            "107/107 [==============================] - 0s 2ms/step - loss: 36310241280.0000 - val_loss: 24920356864.0000\n",
            "Epoch 240/400\n",
            "107/107 [==============================] - 0s 3ms/step - loss: 35984936960.0000 - val_loss: 24879028224.0000\n",
            "Epoch 241/400\n",
            "107/107 [==============================] - 0s 2ms/step - loss: 35848220672.0000 - val_loss: 24861552640.0000\n",
            "Epoch 242/400\n",
            "107/107 [==============================] - 0s 2ms/step - loss: 36096851968.0000 - val_loss: 24835467264.0000\n",
            "Epoch 243/400\n",
            "107/107 [==============================] - 0s 2ms/step - loss: 36099575808.0000 - val_loss: 24809730048.0000\n",
            "Epoch 244/400\n",
            "107/107 [==============================] - 0s 2ms/step - loss: 36094832640.0000 - val_loss: 24830810112.0000\n",
            "Epoch 245/400\n",
            "107/107 [==============================] - 0s 2ms/step - loss: 35817095168.0000 - val_loss: 24807448576.0000\n",
            "Epoch 246/400\n",
            "107/107 [==============================] - 0s 2ms/step - loss: 36200341504.0000 - val_loss: 24795852800.0000\n",
            "Epoch 247/400\n",
            "107/107 [==============================] - 0s 2ms/step - loss: 36014759936.0000 - val_loss: 24771631104.0000\n",
            "Epoch 248/400\n",
            "107/107 [==============================] - 0s 2ms/step - loss: 35706605568.0000 - val_loss: 24748507136.0000\n",
            "Epoch 249/400\n",
            "107/107 [==============================] - 0s 2ms/step - loss: 35801407488.0000 - val_loss: 24742057984.0000\n",
            "Epoch 250/400\n",
            "107/107 [==============================] - 0s 2ms/step - loss: 36627222528.0000 - val_loss: 24743923712.0000\n",
            "Epoch 251/400\n",
            "107/107 [==============================] - 0s 2ms/step - loss: 35775033344.0000 - val_loss: 24722567168.0000\n",
            "Epoch 252/400\n",
            "107/107 [==============================] - 0s 2ms/step - loss: 35932057600.0000 - val_loss: 24676239360.0000\n",
            "Epoch 253/400\n",
            "107/107 [==============================] - 0s 2ms/step - loss: 35699986432.0000 - val_loss: 24598046720.0000\n",
            "Epoch 254/400\n",
            "107/107 [==============================] - 0s 2ms/step - loss: 35702956032.0000 - val_loss: 24598894592.0000\n",
            "Epoch 255/400\n",
            "107/107 [==============================] - 0s 2ms/step - loss: 35903610880.0000 - val_loss: 24603412480.0000\n",
            "Epoch 256/400\n",
            "107/107 [==============================] - 0s 2ms/step - loss: 35740889088.0000 - val_loss: 24595578880.0000\n",
            "Epoch 257/400\n",
            "107/107 [==============================] - 0s 2ms/step - loss: 35785617408.0000 - val_loss: 24578697216.0000\n",
            "Epoch 258/400\n",
            "107/107 [==============================] - 0s 2ms/step - loss: 36165664768.0000 - val_loss: 24588630016.0000\n",
            "Epoch 259/400\n",
            "107/107 [==============================] - 0s 2ms/step - loss: 35996041216.0000 - val_loss: 24559749120.0000\n",
            "Epoch 260/400\n",
            "107/107 [==============================] - 0s 2ms/step - loss: 35636846592.0000 - val_loss: 24540837888.0000\n",
            "Epoch 261/400\n",
            "107/107 [==============================] - 0s 2ms/step - loss: 35609874432.0000 - val_loss: 24536471552.0000\n",
            "Epoch 262/400\n",
            "107/107 [==============================] - 0s 2ms/step - loss: 35912638464.0000 - val_loss: 24496619520.0000\n",
            "Epoch 263/400\n",
            "107/107 [==============================] - 0s 2ms/step - loss: 35365638144.0000 - val_loss: 24459565056.0000\n",
            "Epoch 264/400\n",
            "107/107 [==============================] - 0s 2ms/step - loss: 35812655104.0000 - val_loss: 24461457408.0000\n",
            "Epoch 265/400\n",
            "107/107 [==============================] - 0s 2ms/step - loss: 35442282496.0000 - val_loss: 24416649216.0000\n",
            "Epoch 266/400\n",
            "107/107 [==============================] - 0s 2ms/step - loss: 35590778880.0000 - val_loss: 24435990528.0000\n",
            "Epoch 267/400\n",
            "107/107 [==============================] - 0s 2ms/step - loss: 36226899968.0000 - val_loss: 24382169088.0000\n",
            "Epoch 268/400\n",
            "107/107 [==============================] - 0s 2ms/step - loss: 35619639296.0000 - val_loss: 24392790016.0000\n",
            "Epoch 269/400\n",
            "107/107 [==============================] - 0s 2ms/step - loss: 35832377344.0000 - val_loss: 24391284736.0000\n",
            "Epoch 270/400\n",
            "107/107 [==============================] - 0s 2ms/step - loss: 35684265984.0000 - val_loss: 24417916928.0000\n",
            "Epoch 271/400\n",
            "107/107 [==============================] - 0s 2ms/step - loss: 35241742336.0000 - val_loss: 24351832064.0000\n",
            "Epoch 272/400\n",
            "107/107 [==============================] - 0s 3ms/step - loss: 36197089280.0000 - val_loss: 24335343616.0000\n",
            "Epoch 273/400\n",
            "107/107 [==============================] - 0s 2ms/step - loss: 35872505856.0000 - val_loss: 24311789568.0000\n",
            "Epoch 274/400\n",
            "107/107 [==============================] - 0s 2ms/step - loss: 36139188224.0000 - val_loss: 24358600704.0000\n",
            "Epoch 275/400\n",
            "107/107 [==============================] - 0s 2ms/step - loss: 35790987264.0000 - val_loss: 24363943936.0000\n",
            "Epoch 276/400\n",
            "107/107 [==============================] - 0s 2ms/step - loss: 35570237440.0000 - val_loss: 24364244992.0000\n",
            "Epoch 277/400\n",
            "107/107 [==============================] - 0s 2ms/step - loss: 35714539520.0000 - val_loss: 24354121728.0000\n",
            "Epoch 278/400\n",
            "107/107 [==============================] - 0s 2ms/step - loss: 35758673920.0000 - val_loss: 24368730112.0000\n",
            "Epoch 279/400\n",
            "107/107 [==============================] - 0s 2ms/step - loss: 35441201152.0000 - val_loss: 24354287616.0000\n",
            "Epoch 280/400\n",
            "107/107 [==============================] - 0s 2ms/step - loss: 36100509696.0000 - val_loss: 24342812672.0000\n",
            "Epoch 281/400\n",
            "107/107 [==============================] - 0s 2ms/step - loss: 35953504256.0000 - val_loss: 24343900160.0000\n",
            "Epoch 282/400\n",
            "107/107 [==============================] - 0s 2ms/step - loss: 35935875072.0000 - val_loss: 24317612032.0000\n",
            "Epoch 283/400\n",
            "107/107 [==============================] - 0s 2ms/step - loss: 35664080896.0000 - val_loss: 24297349120.0000\n",
            "Epoch 284/400\n",
            "107/107 [==============================] - 0s 2ms/step - loss: 35580420096.0000 - val_loss: 24260388864.0000\n",
            "Epoch 285/400\n",
            "107/107 [==============================] - 0s 2ms/step - loss: 35204849664.0000 - val_loss: 24229781504.0000\n",
            "Epoch 286/400\n",
            "107/107 [==============================] - 0s 2ms/step - loss: 35696680960.0000 - val_loss: 24251234304.0000\n",
            "Epoch 287/400\n",
            "107/107 [==============================] - 0s 2ms/step - loss: 35713187840.0000 - val_loss: 24256108544.0000\n",
            "Epoch 288/400\n",
            "107/107 [==============================] - 0s 2ms/step - loss: 35419795456.0000 - val_loss: 24241416192.0000\n",
            "Epoch 289/400\n",
            "107/107 [==============================] - 0s 3ms/step - loss: 35206377472.0000 - val_loss: 24238903296.0000\n",
            "Epoch 290/400\n",
            "107/107 [==============================] - 0s 2ms/step - loss: 35538411520.0000 - val_loss: 24214425600.0000\n",
            "Epoch 291/400\n",
            "107/107 [==============================] - 0s 2ms/step - loss: 35509116928.0000 - val_loss: 24259176448.0000\n",
            "Epoch 292/400\n",
            "107/107 [==============================] - 0s 2ms/step - loss: 34848227328.0000 - val_loss: 24217128960.0000\n",
            "Epoch 293/400\n",
            "107/107 [==============================] - 0s 2ms/step - loss: 35655483392.0000 - val_loss: 24159170560.0000\n",
            "Epoch 294/400\n",
            "107/107 [==============================] - 0s 2ms/step - loss: 35484008448.0000 - val_loss: 24121886720.0000\n",
            "Epoch 295/400\n",
            "107/107 [==============================] - 0s 2ms/step - loss: 35401994240.0000 - val_loss: 24092788736.0000\n",
            "Epoch 296/400\n",
            "107/107 [==============================] - 0s 2ms/step - loss: 35191820288.0000 - val_loss: 24077398016.0000\n",
            "Epoch 297/400\n",
            "107/107 [==============================] - 0s 2ms/step - loss: 35681271808.0000 - val_loss: 24085176320.0000\n",
            "Epoch 298/400\n",
            "107/107 [==============================] - 0s 2ms/step - loss: 35554529280.0000 - val_loss: 24100399104.0000\n",
            "Epoch 299/400\n",
            "107/107 [==============================] - 0s 2ms/step - loss: 35126472704.0000 - val_loss: 24122937344.0000\n",
            "Epoch 300/400\n",
            "107/107 [==============================] - 0s 2ms/step - loss: 35281178624.0000 - val_loss: 24124276736.0000\n",
            "Epoch 301/400\n",
            "107/107 [==============================] - 0s 2ms/step - loss: 35481751552.0000 - val_loss: 24121378816.0000\n",
            "Epoch 302/400\n",
            "107/107 [==============================] - 0s 2ms/step - loss: 35786555392.0000 - val_loss: 24103340032.0000\n",
            "Epoch 303/400\n",
            "107/107 [==============================] - 0s 2ms/step - loss: 35510624256.0000 - val_loss: 24113045504.0000\n",
            "Epoch 304/400\n",
            "107/107 [==============================] - 0s 2ms/step - loss: 35433230336.0000 - val_loss: 24100442112.0000\n",
            "Epoch 305/400\n",
            "107/107 [==============================] - 0s 2ms/step - loss: 35256811520.0000 - val_loss: 24095676416.0000\n",
            "Epoch 306/400\n",
            "107/107 [==============================] - 0s 2ms/step - loss: 35171586048.0000 - val_loss: 24082589696.0000\n",
            "Epoch 00306: early stopping\n"
          ],
          "name": "stdout"
        },
        {
          "output_type": "execute_result",
          "data": {
            "text/plain": [
              "<tensorflow.python.keras.callbacks.History at 0x7fdb775dc290>"
            ]
          },
          "metadata": {
            "tags": []
          },
          "execution_count": 103
        }
      ]
    },
    {
      "cell_type": "code",
      "metadata": {
        "colab": {
          "base_uri": "https://localhost:8080/"
        },
        "id": "LndXra2945BH",
        "outputId": "539eabec-8aa4-4831-9d71-6f76b6570c10"
      },
      "source": [
        "model.summary()"
      ],
      "execution_count": 104,
      "outputs": [
        {
          "output_type": "stream",
          "text": [
            "Model: \"sequential_7\"\n",
            "_________________________________________________________________\n",
            "Layer (type)                 Output Shape              Param #   \n",
            "=================================================================\n",
            "dense_32 (Dense)             (None, 8)                 40        \n",
            "_________________________________________________________________\n",
            "module_wrapper_4 (ModuleWrap (None, 8)                 0         \n",
            "_________________________________________________________________\n",
            "dense_33 (Dense)             (None, 3)                 27        \n",
            "_________________________________________________________________\n",
            "module_wrapper_5 (ModuleWrap (None, 3)                 0         \n",
            "_________________________________________________________________\n",
            "dense_34 (Dense)             (None, 1)                 4         \n",
            "=================================================================\n",
            "Total params: 71\n",
            "Trainable params: 71\n",
            "Non-trainable params: 0\n",
            "_________________________________________________________________\n"
          ],
          "name": "stdout"
        }
      ]
    },
    {
      "cell_type": "code",
      "metadata": {
        "colab": {
          "base_uri": "https://localhost:8080/",
          "height": 313
        },
        "id": "GR91QMO3DLlU",
        "outputId": "1c83a148-fe71-47ed-b569-df68f335fe9e"
      },
      "source": [
        "losses = pd.DataFrame(model.history.history)\n",
        "losses.plot()"
      ],
      "execution_count": 105,
      "outputs": [
        {
          "output_type": "execute_result",
          "data": {
            "text/plain": [
              "<matplotlib.axes._subplots.AxesSubplot at 0x7fdb7fd57190>"
            ]
          },
          "metadata": {
            "tags": []
          },
          "execution_count": 105
        },
        {
          "output_type": "display_data",
          "data": {
            "image/png": "[encoded data removed]",
            "text/plain": [
              "<Figure size 432x288 with 1 Axes>"
            ]
          },
          "metadata": {
            "tags": []
          }
        }
      ]
    },
    {
      "cell_type": "code",
      "metadata": {
        "id": "wnhvrGiT3y2E"
      },
      "source": [
        "from sklearn.metrics import mean_squared_error,mean_absolute_error\n",
        "predictions = model.predict(X_test)"
      ],
      "execution_count": 107,
      "outputs": []
    },
    {
      "cell_type": "code",
      "metadata": {
        "colab": {
          "base_uri": "https://localhost:8080/"
        },
        "id": "A56CIQvVMgAe",
        "outputId": "ec6f1df1-4b9f-4422-c919-7669f5bdcaf2"
      },
      "source": [
        "mean_absolute_error(y_test,predictions)"
      ],
      "execution_count": 108,
      "outputs": [
        {
          "output_type": "execute_result",
          "data": {
            "text/plain": [
              "124330.36589096967"
            ]
          },
          "metadata": {
            "tags": []
          },
          "execution_count": 108
        }
      ]
    },
    {
      "cell_type": "code",
      "metadata": {
        "colab": {
          "base_uri": "https://localhost:8080/"
        },
        "id": "wm4_94KeMiIb",
        "outputId": "9307dfad-4e28-45ca-e633-ab289849842e"
      },
      "source": [
        "np.sqrt(mean_squared_error(y_test,predictions))"
      ],
      "execution_count": 109,
      "outputs": [
        {
          "output_type": "execute_result",
          "data": {
            "text/plain": [
              "155185.67785110904"
            ]
          },
          "metadata": {
            "tags": []
          },
          "execution_count": 109
        }
      ]
    }
  ]
}